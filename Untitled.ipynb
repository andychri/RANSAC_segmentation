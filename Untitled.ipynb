{
 "cells": [
  {
   "cell_type": "code",
   "execution_count": 3,
   "id": "58bffdd7-c35b-42b1-b163-5859e0b47993",
   "metadata": {},
   "outputs": [
    {
     "ename": "ImportError",
     "evalue": "cannot import name 'Bi' from 'bigframes' (/home/andreas/.local/lib/python3.10/site-packages/bigframes/__init__.py)",
     "output_type": "error",
     "traceback": [
      "\u001b[0;31m---------------------------------------------------------------------------\u001b[0m",
      "\u001b[0;31mImportError\u001b[0m                               Traceback (most recent call last)",
      "Cell \u001b[0;32mIn[3], line 1\u001b[0m\n\u001b[0;32m----> 1\u001b[0m \u001b[38;5;28;01mfrom\u001b[39;00m \u001b[38;5;21;01mbigframes\u001b[39;00m \u001b[38;5;28;01mimport\u001b[39;00m Bi\n\u001b[1;32m      2\u001b[0m \u001b[38;5;28;01mfrom\u001b[39;00m \u001b[38;5;21;01mgoogle\u001b[39;00m\u001b[38;5;21;01m.\u001b[39;00m\u001b[38;5;21;01mapi_core\u001b[39;00m\u001b[38;5;21;01m.\u001b[39;00m\u001b[38;5;21;01mextended_operation\u001b[39;00m \u001b[38;5;28;01mimport\u001b[39;00m ExtendedOperation\n\u001b[1;32m      4\u001b[0m \u001b[38;5;66;03m# Set BigQuery connection parameters\u001b[39;00m\n",
      "\u001b[0;31mImportError\u001b[0m: cannot import name 'Bi' from 'bigframes' (/home/andreas/.local/lib/python3.10/site-packages/bigframes/__init__.py)"
     ]
    }
   ],
   "source": [
    "from bigframes import BigFrames\n",
    "from google.api_core.extended_operation import ExtendedOperation\n",
    "\n",
    "# Set BigQuery connection parameters\n",
    "project_id = \"your_project_id\"\n",
    "dataset_id = \"bigquery-public-data\"\n",
    "table_id = \"samples.gsod\"\n",
    "\n",
    "# Create BigFrames client\n",
    "bf = BigFrames(spark_conf={\"spark.sql.queryExecutionListeners\": \"com.google.cloud.bigframes.BigFramesQueryExecutionListener\"}, project_id=project_id)\n",
    "\n",
    "# Load dataset from BigQuery into a DataFrame\n",
    "df = bf.read_table(f\"{dataset_id}.{table_id}\")\n",
    "\n",
    "# Restrict number of rows to 20,000\n",
    "df = df.limit(20000)\n",
    "\n",
    "# Divide DataFrame into training and test sets\n",
    "df_train = df.head(18000)\n",
    "df_test = df.tail(2000)\n",
    "\n",
    "# Specify features and target\n",
    "features = [\"month\", \"day\", \"fog\", \"rain\", \"snow\", \"hail\"]\n",
    "target = \"mean_temp\"\n",
    "\n",
    "# Train an XGBRegressor model using BigFrames\n",
    "xgbr = bf.XGBRegressor(features=features, target=target)\n",
    "xgbr.fit(df_train)\n",
    "\n",
    "# Predict mean temperature on test set\n",
    "preds = xgbr.predict(df_test[features])\n",
    "\n",
    "# Compute mean squared error\n",
    "mse = ((df_test[target] - preds) ** 2).mean()\n",
    "print(\"Mean Squared Error:\", mse)\n",
    "\n",
    "# Save trained model to BigQuery\n",
    "model_path = \"bigframes-dev.huanc.linear_test_model.linear_test_model_001\"\n",
    "xgbr.save(model_path)\n",
    "\n",
    "# Print confirmation message\n",
    "print(f\"Model saved to: {model_path}\")\n",
    "\n",
    "# Wait for model saving operation to complete\n",
    "operation: ExtendedOperation = bf.client.get_operation(xgbr._client.last_operation)\n",
    "operation.result()"
   ]
  }
 ],
 "metadata": {
  "kernelspec": {
   "display_name": "Python 3 (ipykernel)",
   "language": "python",
   "name": "python3"
  },
  "language_info": {
   "codemirror_mode": {
    "name": "ipython",
    "version": 3
   },
   "file_extension": ".py",
   "mimetype": "text/x-python",
   "name": "python",
   "nbconvert_exporter": "python",
   "pygments_lexer": "ipython3",
   "version": "3.10.12"
  }
 },
 "nbformat": 4,
 "nbformat_minor": 5
}
