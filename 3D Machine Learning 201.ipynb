{
 "cells": [
  {
   "cell_type": "markdown",
   "id": "0af92112-4174-43c4-b2e6-9fcb796f7e18",
   "metadata": {},
   "source": [
    "## Imports"
   ]
  },
  {
   "cell_type": "code",
   "execution_count": 2,
   "id": "8548b05e-f261-4f83-8b33-e413d64519b4",
   "metadata": {},
   "outputs": [],
   "source": [
    "import pandas as pd\n",
    "from sklearn.model_selection import train_test_split\n",
    "from sklearn.metrics import classification_report\n",
    "from sklearn.ensemble import RandomForestClassifier\n",
    "from sklearn.preprocessing import MinMaxScaler"
   ]
  },
  {
   "cell_type": "markdown",
   "id": "8e7d1999-2aa5-48a2-a9f7-207b2b064a77",
   "metadata": {},
   "source": [
    "## Load Dataset"
   ]
  },
  {
   "cell_type": "code",
   "execution_count": 5,
   "id": "0ce2ddc9-ecb3-4c87-9c62-ecc31e8eba16",
   "metadata": {},
   "outputs": [],
   "source": [
    "dataset=\"3DML_urban_point_cloud.xyz\"\n",
    "\n",
    "pcd=pd.read_csv(dataset,delimiter=' ')\n",
    "pcd.dropna(inplace=True)"
   ]
  },
  {
   "cell_type": "markdown",
   "id": "bcd97951-0f29-470a-b934-2f886dd0d234",
   "metadata": {},
   "source": [
    "## Labels and Features"
   ]
  },
  {
   "cell_type": "code",
   "execution_count": 7,
   "id": "3462d0e9-a334-4364-9c37-fe537f7665f1",
   "metadata": {},
   "outputs": [],
   "source": [
    "labels=pcd['Classification']\n",
    "features=pcd[['X','Y','Z','R','G','B']]"
   ]
  },
  {
   "cell_type": "markdown",
   "id": "957f529b-34bd-4292-9752-c8239f2ffff9",
   "metadata": {},
   "source": [
    "## Min-Max scaler\n",
    "The MinMaxScaler() transforms features by scaling and translating each feature individually to be in the given range, e.g., between zero and one. If your data is normally distributed, then you may use StandardScaler."
   ]
  },
  {
   "cell_type": "code",
   "execution_count": 8,
   "id": "196779d7-dbb4-40f2-b59b-7c77b1e94e34",
   "metadata": {},
   "outputs": [],
   "source": [
    "from sklearn.preprocessing import MinMaxScaler\n",
    "features_scaled = MinMaxScaler().fit_transform(features)"
   ]
  },
  {
   "cell_type": "markdown",
   "id": "f17ce2be-364a-4835-8628-d57a8670633a",
   "metadata": {},
   "source": [
    "## Training setup"
   ]
  },
  {
   "cell_type": "code",
   "execution_count": 9,
   "id": "20991f3d-d63c-424b-bcb5-75fa221b93fb",
   "metadata": {},
   "outputs": [],
   "source": [
    "X_train, X_test, y_train, y_test = train_test_split(features_scaled, labels, test_size=0.4)"
   ]
  },
  {
   "cell_type": "markdown",
   "id": "6d8a03d1-3d6b-4e7a-86bb-2bec158cb2e1",
   "metadata": {},
   "source": [
    "## Classifier"
   ]
  },
  {
   "cell_type": "code",
   "execution_count": null,
   "id": "1ae04a98-289b-4673-b9b3-9f99a99eb38d",
   "metadata": {},
   "outputs": [],
   "source": [
    "rf_classifier = RandomForestClassifier()\n",
    "rf_classifier.fit(X_train, y_train)\n",
    "rf_predictions = rf_classifier.predict(X_test)"
   ]
  },
  {
   "cell_type": "markdown",
   "id": "92a8d99f-9223-455f-9f37-46dc1a1b5c6a",
   "metadata": {},
   "source": [
    "## Visualize"
   ]
  },
  {
   "cell_type": "code",
   "execution_count": null,
   "id": "696f0a36-ee2e-4b6a-97aa-98df95367f28",
   "metadata": {},
   "outputs": [],
   "source": [
    "fig, axs = plt.subplots(1, 3, figsize=(20,5))\n",
    "axs[0].scatter(X_test['X'], X_test['Y'], c =y_test, s=0.05)\n",
    "axs[0].set_title('3D Point Cloud Ground Truth')\n",
    "axs[1].scatter(X_test['X'], X_test['Y'], c = rf_predictions, s=0.05)\n",
    "axs[1].set_title('3D Point Cloud Predictions')\n",
    "axs[2].scatter(X_test['X'], X_test['Y'], c = y_test-rf_predictions, cmap = plt.cm.rainbow, s=0.5*(y_test-rf_predictions))\n",
    "axs[2].set_title('Differences')"
   ]
  }
 ],
 "metadata": {
  "kernelspec": {
   "display_name": "Python 3 (ipykernel)",
   "language": "python",
   "name": "python3"
  },
  "language_info": {
   "codemirror_mode": {
    "name": "ipython",
    "version": 3
   },
   "file_extension": ".py",
   "mimetype": "text/x-python",
   "name": "python",
   "nbconvert_exporter": "python",
   "pygments_lexer": "ipython3",
   "version": "3.10.12"
  }
 },
 "nbformat": 4,
 "nbformat_minor": 5
}
