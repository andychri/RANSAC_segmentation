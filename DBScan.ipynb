{
 "cells": [
  {
   "cell_type": "markdown",
   "id": "a26414ab-3bd4-47e2-b12e-f7c2b02f7ae5",
   "metadata": {},
   "source": [
    "## Imports"
   ]
  },
  {
   "cell_type": "code",
   "execution_count": 2,
   "id": "4be8444d-a4a6-4a28-84c8-222eda780d89",
   "metadata": {},
   "outputs": [
    {
     "name": "stdout",
     "output_type": "stream",
     "text": [
      "Jupyter environment detected. Enabling Open3D WebVisualizer.\n",
      "[Open3D INFO] WebRTC GUI backend enabled.\n",
      "[Open3D INFO] WebRTCWindowSystem: HTTP handshake server disabled.\n"
     ]
    }
   ],
   "source": [
    "import numpy as np\n",
    "import open3d as o3d\n",
    "from scipy.optimize import least_squares\n",
    "from sklearn.cluster import DBSCAN\n",
    "import matplotlib.pyplot as plt"
   ]
  },
  {
   "cell_type": "markdown",
   "id": "2b6057ae-e443-4583-b695-84e20efad8ed",
   "metadata": {},
   "source": [
    "## Ready the point cloud"
   ]
  },
  {
   "cell_type": "code",
   "execution_count": 3,
   "id": "647612a3-4c74-4b17-a6f0-ea04a9aff9c4",
   "metadata": {},
   "outputs": [],
   "source": [
    "pcd = o3d.io.read_point_cloud(\"noise_filter.pcd\")\n",
    "downpcd = pcd.voxel_down_sample(voxel_size=0.005)\n",
    "points = np.asarray(downpcd.points)\n",
    "\n",
    "o3d.visualization.draw_geometries([downpcd])"
   ]
  },
  {
   "cell_type": "markdown",
   "id": "428dbc83-ef33-4de7-a6cc-34b755365599",
   "metadata": {},
   "source": [
    "## DBScan"
   ]
  },
  {
   "cell_type": "code",
   "execution_count": 4,
   "id": "c643079d-5f12-4008-8fe1-7cee4d51b4dc",
   "metadata": {},
   "outputs": [],
   "source": [
    "def visualize_clusters(pcd, labels):\n",
    "    max_label = labels.max()\n",
    "    colors = plt.get_cmap(\"tab20\")(labels / (max_label if max_label > 0 else 1))\n",
    "    colors[labels < 0] = 0  # Assign black to noise (label = -1)\n",
    "    pcd.colors = o3d.utility.Vector3dVector(colors[:, :3])\n",
    "    o3d.visualization.draw_geometries([pcd])\n",
    "\n",
    "# Convert Open3D point cloud to numpy array\n",
    "points = np.asarray(downpcd.points)\n",
    "\n",
    "# Perform DBSCAN clustering\n",
    "eps = 0.02  # This is the maximum distance between two samples for one to be considered as in the neighborhood of the other.\n",
    "min_samples = 10  # The number of samples (or total weight) in a neighborhood for a point to be considered as a core point.\n",
    "db = DBSCAN(eps=eps, min_samples=min_samples).fit(points)\n",
    "labels = db.labels_\n",
    "\n",
    "# Visualize the clusters\n",
    "visualize_clusters(downpcd, labels)"
   ]
  },
  {
   "cell_type": "code",
   "execution_count": 7,
   "id": "a98838e1-b2ef-4c6a-b2c5-c519dd5fb09b",
   "metadata": {},
   "outputs": [
    {
     "data": {
      "text/plain": [
       "array([0, 1, 1, ..., 1, 0, 0])"
      ]
     },
     "execution_count": 7,
     "metadata": {},
     "output_type": "execute_result"
    }
   ],
   "source": [
    "db.labels_"
   ]
  },
  {
   "cell_type": "code",
   "execution_count": null,
   "id": "6644de44-f1e8-4650-aa4d-08d2d600ae18",
   "metadata": {},
   "outputs": [],
   "source": [
    "# Function to visualize point cloud with Open3D\n",
    "def visualize_clusters(pcd, labels):\n",
    "    max_label = labels.max()\n",
    "    colors = plt.get_cmap(\"tab20\")(labels / (max_label if max_label > 0 else 1))\n",
    "    colors[labels < 0] = 0  # Assign black to noise (label = -1)\n",
    "    pcd.colors = o3d.utility.Vector3dVector(colors[:, :3])\n",
    "    o3d.visualization.draw_geometries([pcd])\n",
    "\n",
    "# Function to apply RANSAC to each cluster to find cylinders\n",
    "def apply_ransac_to_clusters(pcd, labels):\n",
    "    unique_labels = np.unique(labels)\n",
    "    pcd_combined = o3d.geometry.PointCloud()\n",
    "\n",
    "    for label in unique_labels:\n",
    "        if label == -1:\n",
    "            continue  # Skip noise points\n",
    "\n",
    "        # Extract the points belonging to this cluster\n",
    "        cluster_indices = np.where(labels == label)[0]\n",
    "        cluster_points = np.asarray(pcd.points)[cluster_indices]\n",
    "\n",
    "        # Convert to Open3D point cloud\n",
    "        cluster_pcd = o3d.geometry.PointCloud()\n",
    "        cluster_pcd.points = o3d.utility.Vector3dVector(cluster_points)\n",
    "\n",
    "        # Apply RANSAC to fit a cylinder\n",
    "        try:\n",
    "            cylinder_model, inliers = cluster_pcd.segment_cylinder(distance_threshold=0.01,\n",
    "                                                                   ransac_n=3,\n",
    "                                                                   num_iterations=1000,\n",
    "                                                                   radius_bounds=[0.01, 0.1])\n",
    "            if len(inliers) == 0:\n",
    "                continue  # Skip if no cylinder was found\n",
    "\n",
    "            inlier_cloud = cluster_pcd.select_by_index(inliers)\n",
    "            outlier_cloud = cluster_pcd.select_by_index(inliers, invert=True)\n",
    "\n",
    "            # Color the inliers (the cylinder) and outliers (the remaining points)\n",
    "            inlier_cloud.paint_uniform_color([1.0, 0, 0])  # Red for cylinders\n",
    "            outlier_cloud.paint_uniform_color([0, 1.0, 0])  # Green for remaining points\n",
    "\n",
    "            # Combine the RANSAC results into a single point cloud\n",
    "            pcd_combined += inlier_cloud\n",
    "            pcd_combined += outlier_cloud\n",
    "\n",
    "        except RuntimeError as e:\n",
    "            print(f\"Skipping cluster {label}: {e}\")\n",
    "            continue\n",
    "\n",
    "    o3d.visualization.draw_geometries([pcd_combined])\n",
    "\n",
    "# Load your point cloud (replace with your own point cloud)\n",
    "pcd = o3d.io.read_point_cloud(\"path_to_your_point_cloud.ply\")\n",
    "\n",
    "# Convert Open3D point cloud to numpy array\n",
    "points = np.asarray(pcd.points)\n",
    "\n",
    "# Perform DBSCAN clustering\n",
    "eps = 0.02  # This is the maximum distance between two samples for one to be considered as in the neighborhood of the other.\n",
    "min_samples = 10  # The number of samples (or total weight) in a neighborhood for a point to be considered as a core point.\n",
    "db = DBSCAN(eps=eps, min_samples=min_samples).fit(points)\n",
    "labels = db.labels_\n",
    "\n",
    "# Visualize the clusters (optional, before applying RANSAC)\n",
    "visualize_clusters(pcd, labels)\n",
    "\n",
    "# Apply RANSAC to the individual clusters to find cylinders\n",
    "apply_ransac_to_clusters(pcd, labels)"
   ]
  }
 ],
 "metadata": {
  "kernelspec": {
   "display_name": "Python 3 (ipykernel)",
   "language": "python",
   "name": "python3"
  },
  "language_info": {
   "codemirror_mode": {
    "name": "ipython",
    "version": 3
   },
   "file_extension": ".py",
   "mimetype": "text/x-python",
   "name": "python",
   "nbconvert_exporter": "python",
   "pygments_lexer": "ipython3",
   "version": "3.10.12"
  }
 },
 "nbformat": 4,
 "nbformat_minor": 5
}
