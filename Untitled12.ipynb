{
 "cells": [
  {
   "cell_type": "code",
   "execution_count": 2,
   "id": "aaaaaea9-9ecc-4fc5-b0ee-098cec182d8b",
   "metadata": {},
   "outputs": [],
   "source": [
    "def poeng(tekst):\n",
    "    if tekst == \"lyn\":\n",
    "        return 0\n",
    "    else:\n",
    "        return len(tekst)"
   ]
  },
  {
   "cell_type": "code",
   "execution_count": 4,
   "id": "499d3525-d420-43bf-be1e-edec19065290",
   "metadata": {},
   "outputs": [],
   "source": [
    "def poengsum(tekster):\n",
    "    sum = 0\n",
    "    for t in tekster:\n",
    "        sum += poeng(t)\n",
    "    return sum"
   ]
  },
  {
   "cell_type": "code",
   "execution_count": null,
   "id": "c484dbd7-00ee-4167-b0ca-687042b1e24a",
   "metadata": {},
   "outputs": [],
   "source": [
    "def velg(tall)"
   ]
  }
 ],
 "metadata": {
  "kernelspec": {
   "display_name": "Python 3 (ipykernel)",
   "language": "python",
   "name": "python3"
  },
  "language_info": {
   "codemirror_mode": {
    "name": "ipython",
    "version": 3
   },
   "file_extension": ".py",
   "mimetype": "text/x-python",
   "name": "python",
   "nbconvert_exporter": "python",
   "pygments_lexer": "ipython3",
   "version": "3.10.12"
  }
 },
 "nbformat": 4,
 "nbformat_minor": 5
}
