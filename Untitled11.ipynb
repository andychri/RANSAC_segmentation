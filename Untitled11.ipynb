{
 "cells": [
  {
   "cell_type": "code",
   "execution_count": null,
   "id": "6b014a7f-12ff-481f-8926-8791cb723ba6",
   "metadata": {},
   "outputs": [],
   "source": [
    "import numpy as np\n",
    "import open3d as o3d\n",
    "from scipy.optimize import least_squares\n",
    "\n",
    "def fit_sphere(points):\n",
    "    def residuals(params, points):\n",
    "        x0, y0, z0, r = params\n",
    "        return np.sqrt((points[:, 0] - x0)**2 + (points[:, 1] - y0)**2 + (points[:, 2] - z0)**2) - r\n",
    "\n",
    "    # Initial guess for the sphere parameters\n",
    "    x0, y0, z0 = np.mean(points, axis=0)\n",
    "    r0 = np.mean(np.linalg.norm(points - [x0, y0, z0], axis=1))\n",
    "    initial_guess = [x0, y0, z0, r0]\n",
    "\n",
    "    result = least_squares(residuals, initial_guess, args=(points,))\n",
    "    return result.x\n",
    "\n",
    "def ransac_sphere(points, threshold, iterations):\n",
    "    best_inliers = []\n",
    "    best_params = None\n",
    "\n",
    "    for _ in range(iterations):\n",
    "        sample = points[np.random.choice(points.shape[0], 4, replace=False)]\n",
    "        params = fit_sphere(sample)\n",
    "        inliers = []\n",
    "\n",
    "        for point in points:\n",
    "            distance = np.abs(np.sqrt((point[0] - params[0])**2 + (point[1] - params[1])**2 + (point[2] - params[2])**2) - params[3])\n",
    "            if distance < threshold:\n",
    "                inliers.append(point)\n",
    "\n",
    "        if len(inliers) > len(best_inliers):\n",
    "            best_inliers = inliers\n",
    "            best_params = params\n",
    "\n",
    "    inlier_indices = [i for i, p in enumerate(points) if any(np.allclose(p, inlier) for inlier in best_inliers)]\n",
    "    return best_params, np.array(inlier_indices)\n",
    "\n",
    "\n",
    "pcd = o3d.io.read_point_cloud(\"filtered.pcd\")\n",
    "points = np.asarray(pcd.points)\n",
    "sphere_params, sphere_inliers = ransac_sphere(points, threshold=0.01, iterations=1000)\n",
    "\n",
    "print(\"Sphere parameters:\", sphere_params)\n",
    "\n"
   ]
  },
  {
   "cell_type": "code",
   "execution_count": 12,
   "id": "7dc084fb-d26b-466f-9e88-ee7189f36943",
   "metadata": {},
   "outputs": [],
   "source": [
    "import numpy as np\n",
    "import open3d as o3d\n",
    "\n",
    "def fit_plane(points):\n",
    "    centroid = np.mean(points, axis=0)\n",
    "    _, _, vh = np.linalg.svd(points - centroid)\n",
    "    normal = vh[2, :]\n",
    "    d = -np.dot(normal, centroid)\n",
    "    return np.append(normal, d)\n",
    "\n",
    "def ransac_plane(points, threshold, iterations):\n",
    "    best_inliers = []\n",
    "    best_params = None\n",
    "\n",
    "    for _ in range(iterations):\n",
    "        sample = points[np.random.choice(points.shape[0], 3, replace=False)]\n",
    "        params = fit_plane(sample)\n",
    "        inliers = []\n",
    "\n",
    "        for point in points:\n",
    "            distance = np.abs(np.dot(params[:3], point) + params[3]) / np.linalg.norm(params[:3])\n",
    "            if distance < threshold:\n",
    "                inliers.append(point)\n",
    "\n",
    "        if len(inliers) > len(best_inliers):\n",
    "            best_inliers = inliers\n",
    "            best_params = params\n",
    "\n",
    "    return best_params, np.array(best_inliers)"
   ]
  },
  {
   "cell_type": "code",
   "execution_count": 13,
   "id": "fca273db-29d3-420a-b25a-7b0849a1004e",
   "metadata": {},
   "outputs": [
    {
     "name": "stdout",
     "output_type": "stream",
     "text": [
      "Plane parameters: [-0.24017567 -0.70746918 -0.66468263  0.8429632 ]\n"
     ]
    }
   ],
   "source": [
    "pcd = o3d.io.read_point_cloud(\"filtered.pcd\")\n",
    "points = np.asarray(pcd.points)\n",
    "plane_params, plane_inliers = ransac_plane(points, threshold=0.01, iterations=1000)\n",
    "print(\"Plane parameters:\", plane_params)"
   ]
  },
  {
   "cell_type": "code",
   "execution_count": null,
   "id": "9cce9ae0-111a-4384-a90c-23ebdf64272b",
   "metadata": {},
   "outputs": [],
   "source": [
    "#sphere_cloud = o3d.geometry.PointCloud()\n",
    "#sphere_cloud.points = o3d.utility.Vector3dVector(points[sphere_inliers])\n",
    "#sphere_cloud.paint_uniform_color([0,1,0])\n",
    "\n",
    "#plane_cloud = o3d.geometry.PointCloud()\n",
    "#plane_cloud.points = o3d.utility.Vector3dVector(points[plane_inliers])\n",
    "#plane_cloud.paint_uniform_color([1,0,0])\n",
    "\n",
    "other_points = np.delete(points, np.union1d(plane_inliers, sphere_inliers), axis=0)\n",
    "other_cloud = o3d.geometry.PointCloud()\n",
    "other_cloud.points = o3d.utility.Vector3dVector(other_points)\n",
    "other_cloud.paint_uniform_color([0,0,0])\n",
    "\n",
    "coordinate_frame = o3d.geometry.TriangleMwesh.create_coordinate_frame(size=1, origin=[0,0,0])\n",
    "\n",
    "o3d.visualization.draw_geometries([other_cloud, coordinate_frame])"
   ]
  },
  {
   "cell_type": "code",
   "execution_count": null,
   "id": "70260221-9a90-4879-a4b6-1846d4b57807",
   "metadata": {},
   "outputs": [],
   "source": []
  }
 ],
 "metadata": {
  "kernelspec": {
   "display_name": "Python 3 (ipykernel)",
   "language": "python",
   "name": "python3"
  },
  "language_info": {
   "codemirror_mode": {
    "name": "ipython",
    "version": 3
   },
   "file_extension": ".py",
   "mimetype": "text/x-python",
   "name": "python",
   "nbconvert_exporter": "python",
   "pygments_lexer": "ipython3",
   "version": "3.10.12"
  }
 },
 "nbformat": 4,
 "nbformat_minor": 5
}
