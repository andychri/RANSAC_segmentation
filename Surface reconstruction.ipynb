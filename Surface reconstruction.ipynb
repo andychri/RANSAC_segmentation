{
 "cells": [
  {
   "cell_type": "code",
   "execution_count": 6,
   "id": "bd6415b5-492f-44ee-a4a0-b8df4fba68f7",
   "metadata": {},
   "outputs": [
    {
     "name": "stdout",
     "output_type": "stream",
     "text": [
      "alpha=0.030\n"
     ]
    }
   ],
   "source": [
    "import open3d as o3d\n",
    "path = \"filtered.pcd\"\n",
    "pcd = o3d.io.read_point_cloud(path)\n",
    "o3d.visualization.draw_geometries([pcd])\n",
    "alpha = 0.03\n",
    "print(f\"alpha={alpha:.3f}\")\n",
    "mesh = o3d.geometry.TriangleMesh.create_from_point_cloud_alpha_shape(pcd, alpha)\n",
    "mesh.compute_vertex_normals()\n",
    "o3d.visualization.draw_geometries([mesh], mesh_show_back_face=True)"
   ]
  },
  {
   "cell_type": "code",
   "execution_count": 9,
   "id": "4e4fd3e0-8e0c-4ff2-93e8-bb461913569b",
   "metadata": {},
   "outputs": [
    {
     "name": "stdout",
     "output_type": "stream",
     "text": [
      "alpha=0.500\n",
      "alpha=0.229\n",
      "alpha=0.105\n",
      "alpha=0.048\n",
      "alpha=0.022\n",
      "alpha=0.010\n"
     ]
    }
   ],
   "source": [
    "import numpy as np\n",
    "tetra_mesh, pt_map = o3d.geometry.TetraMesh.create_from_point_cloud(pcd)\n",
    "for alpha in np.logspace(np.log10(0.5), np.log10(0.01), num=6):\n",
    "    print(f\"alpha={alpha:.3f}\")\n",
    "    mesh = o3d.geometry.TriangleMesh.create_from_point_cloud_alpha_shape(\n",
    "        pcd, alpha, tetra_mesh, pt_map)\n",
    "    mesh.compute_vertex_normals()\n",
    "    o3d.visualization.draw_geometries([mesh], mesh_show_back_face=True)"
   ]
  },
  {
   "cell_type": "code",
   "execution_count": 10,
   "id": "188aedbd-ccb7-4121-8c15-e646c2483f71",
   "metadata": {},
   "outputs": [
    {
     "ename": "AttributeError",
     "evalue": "'open3d.cpu.pybind.geometry.PointCloud' object has no attribute 'compute_vertex_normals'",
     "output_type": "error",
     "traceback": [
      "\u001b[0;31m---------------------------------------------------------------------------\u001b[0m",
      "\u001b[0;31mAttributeError\u001b[0m                            Traceback (most recent call last)",
      "Cell \u001b[0;32mIn[10], line 2\u001b[0m\n\u001b[1;32m      1\u001b[0m gt_mesh \u001b[38;5;241m=\u001b[39m o3d\u001b[38;5;241m.\u001b[39mio\u001b[38;5;241m.\u001b[39mread_point_cloud(path)\n\u001b[0;32m----> 2\u001b[0m \u001b[43mgt_mesh\u001b[49m\u001b[38;5;241;43m.\u001b[39;49m\u001b[43mcompute_vertex_normals\u001b[49m()\n\u001b[1;32m      3\u001b[0m pcd \u001b[38;5;241m=\u001b[39m gt_mesh\u001b[38;5;241m.\u001b[39msample_points_poisson_disk(\u001b[38;5;241m3000\u001b[39m)\n\u001b[1;32m      4\u001b[0m o3d\u001b[38;5;241m.\u001b[39mvisualization\u001b[38;5;241m.\u001b[39mdraw_geometries([pcd])\n",
      "\u001b[0;31mAttributeError\u001b[0m: 'open3d.cpu.pybind.geometry.PointCloud' object has no attribute 'compute_vertex_normals'"
     ]
    }
   ],
   "source": [
    "gt_mesh = o3d.io.read_point_cloud(path)\n",
    "gt_mesh.compute_vertex_normals()\n",
    "pcd = gt_mesh.sample_points_poisson_disk(3000)\n",
    "o3d.visualization.draw_geometries([pcd])"
   ]
  },
  {
   "cell_type": "code",
   "execution_count": 12,
   "id": "54bc2cd8-64b4-4045-a173-fb796f4bc053",
   "metadata": {},
   "outputs": [
    {
     "name": "stdout",
     "output_type": "stream",
     "text": [
      "PointCloud with 172285 points.\n"
     ]
    }
   ],
   "source": [
    "pcd = o3d.io.read_point_cloud(path)\n",
    "print(pcd)\n",
    "o3d.visualization.draw_geometries([pcd])\n",
    "\n"
   ]
  },
  {
   "cell_type": "code",
   "execution_count": 13,
   "id": "ed1d55a7-93ea-45d4-858b-410cbc5f8fc3",
   "metadata": {},
   "outputs": [
    {
     "name": "stdout",
     "output_type": "stream",
     "text": [
      "run Poisson surface reconstruction\n"
     ]
    },
    {
     "ename": "RuntimeError",
     "evalue": "\u001b[1;31m[Open3D Error] (static std::tuple<std::shared_ptr<open3d::geometry::TriangleMesh>, std::vector<double, std::allocator<double> > > open3d::geometry::TriangleMesh::CreateFromPointCloudPoisson(const open3d::geometry::PointCloud&, size_t, float, float, bool, int)) /root/Open3D/cpp/open3d/geometry/SurfaceReconstructionPoisson.cpp:732: Point cloud has no normals\n\u001b[0;m",
     "output_type": "error",
     "traceback": [
      "\u001b[0;31m---------------------------------------------------------------------------\u001b[0m",
      "\u001b[0;31mRuntimeError\u001b[0m                              Traceback (most recent call last)",
      "Cell \u001b[0;32mIn[13], line 4\u001b[0m\n\u001b[1;32m      1\u001b[0m \u001b[38;5;28mprint\u001b[39m(\u001b[38;5;124m'\u001b[39m\u001b[38;5;124mrun Poisson surface reconstruction\u001b[39m\u001b[38;5;124m'\u001b[39m)\n\u001b[1;32m      2\u001b[0m \u001b[38;5;28;01mwith\u001b[39;00m o3d\u001b[38;5;241m.\u001b[39mutility\u001b[38;5;241m.\u001b[39mVerbosityContextManager(\n\u001b[1;32m      3\u001b[0m         o3d\u001b[38;5;241m.\u001b[39mutility\u001b[38;5;241m.\u001b[39mVerbosityLevel\u001b[38;5;241m.\u001b[39mDebug) \u001b[38;5;28;01mas\u001b[39;00m cm:\n\u001b[0;32m----> 4\u001b[0m     mesh, densities \u001b[38;5;241m=\u001b[39m \u001b[43mo3d\u001b[49m\u001b[38;5;241;43m.\u001b[39;49m\u001b[43mgeometry\u001b[49m\u001b[38;5;241;43m.\u001b[39;49m\u001b[43mTriangleMesh\u001b[49m\u001b[38;5;241;43m.\u001b[39;49m\u001b[43mcreate_from_point_cloud_poisson\u001b[49m\u001b[43m(\u001b[49m\n\u001b[1;32m      5\u001b[0m \u001b[43m        \u001b[49m\u001b[43mpcd\u001b[49m\u001b[43m,\u001b[49m\u001b[43m \u001b[49m\u001b[43mdepth\u001b[49m\u001b[38;5;241;43m=\u001b[39;49m\u001b[38;5;241;43m9\u001b[39;49m\u001b[43m)\u001b[49m\n\u001b[1;32m      6\u001b[0m \u001b[38;5;28mprint\u001b[39m(mesh)\n\u001b[1;32m      7\u001b[0m o3d\u001b[38;5;241m.\u001b[39mvisualization\u001b[38;5;241m.\u001b[39mdraw_geometries([mesh])\n",
      "\u001b[0;31mRuntimeError\u001b[0m: \u001b[1;31m[Open3D Error] (static std::tuple<std::shared_ptr<open3d::geometry::TriangleMesh>, std::vector<double, std::allocator<double> > > open3d::geometry::TriangleMesh::CreateFromPointCloudPoisson(const open3d::geometry::PointCloud&, size_t, float, float, bool, int)) /root/Open3D/cpp/open3d/geometry/SurfaceReconstructionPoisson.cpp:732: Point cloud has no normals\n\u001b[0;m"
     ]
    }
   ],
   "source": [
    "print('run Poisson surface reconstruction')\n",
    "with o3d.utility.VerbosityContextManager(\n",
    "        o3d.utility.VerbosityLevel.Debug) as cm:\n",
    "    mesh, densities = o3d.geometry.TriangleMesh.create_from_point_cloud_poisson(\n",
    "        pcd, depth=9)\n",
    "print(mesh)\n",
    "o3d.visualization.draw_geometries([mesh])"
   ]
  },
  {
   "cell_type": "code",
   "execution_count": 14,
   "id": "e00dc8ab-2832-4e9e-ba11-b2e0153ca360",
   "metadata": {},
   "outputs": [],
   "source": [
    "pcd = pcd = o3d.io.read_point_cloud(path)\n",
    "pcd.normals = o3d.utility.Vector3dVector(np.zeros(\n",
    "    (1, 3)))  # invalidate existing normals\n",
    "\n",
    "pcd.estimate_normals()\n",
    "o3d.visualization.draw_geometries([pcd], point_show_normal=True)\n"
   ]
  },
  {
   "cell_type": "code",
   "execution_count": 15,
   "id": "3ba4a4c7-9b57-445c-acd0-0f5e9d0bd058",
   "metadata": {},
   "outputs": [],
   "source": [
    "pcd.orient_normals_consistent_tangent_plane(100)\n",
    "o3d.visualization.draw_geometries([pcd], point_show_normal=True)"
   ]
  },
  {
   "cell_type": "code",
   "execution_count": 16,
   "id": "7cffa897-d43b-4696-8be4-086be841e9a4",
   "metadata": {},
   "outputs": [
    {
     "name": "stdout",
     "output_type": "stream",
     "text": [
      "run Poisson surface reconstruction\n",
      "[Open3D DEBUG] Input Points / Samples: 172285 / 167452\n",
      "[Open3D DEBUG] #   Got kernel density: 0.12786602973937988 (s), 791.5390625 (MB) / 791.5390625 (MB) / 1224 (MB)\n",
      "[Open3D DEBUG] #     Got normal field: 0.2904388904571533 (s), 827.9140625 (MB) / 827.9140625 (MB) / 1224 (MB)\n",
      "[Open3D DEBUG] Point weight / Estimated Area: 3.399197e-05 / 5.856306e+00\n",
      "[Open3D DEBUG] #       Finalized tree: 0.2989051342010498 (s), 830.4140625 (MB) / 830.4140625 (MB) / 1224 (MB)\n",
      "[Open3D DEBUG] #  Set FEM constraints: 0.4283120632171631 (s), 830.5390625 (MB) / 830.5390625 (MB) / 1224 (MB)\n",
      "[Open3D DEBUG] #Set point constraints: 0.1298360824584961 (s), 830.5390625 (MB) / 830.5390625 (MB) / 1224 (MB)\n",
      "[Open3D DEBUG] Leaf Nodes / Active Nodes / Ghost Nodes: 2220751 / 1338104 / 1199897\n",
      "[Open3D DEBUG] Memory Usage: 830.539 MB\n",
      "[Open3D DEBUG] # Linear system solved: 0.7757508754730225 (s), 830.5390625 (MB) / 830.5390625 (MB) / 1224 (MB)\n",
      "[Open3D DEBUG] Got average: 0.036604881286621094 (s), 830.5390625 (MB) / 830.5390625 (MB) / 1224 (MB)\n",
      "[Open3D DEBUG] Iso-Value: 4.993652e-01 = 8.603314e+04 / 1.722850e+05\n",
      "[Open3D DEBUG] #          Total Solve:       5.4 (s),     906.2 (MB)\n",
      "TriangleMesh with 501809 points and 1018001 triangles.\n"
     ]
    }
   ],
   "source": [
    "print('run Poisson surface reconstruction')\n",
    "with o3d.utility.VerbosityContextManager(\n",
    "        o3d.utility.VerbosityLevel.Debug) as cm:\n",
    "    mesh, densities = o3d.geometry.TriangleMesh.create_from_point_cloud_poisson(\n",
    "        pcd, depth=9)\n",
    "print(mesh)\n",
    "o3d.visualization.draw_geometries([mesh])"
   ]
  },
  {
   "cell_type": "code",
   "execution_count": 20,
   "id": "f879a2cf-a2c4-48b9-ac04-6cc8edc7696c",
   "metadata": {},
   "outputs": [
    {
     "name": "stderr",
     "output_type": "stream",
     "text": [
      "/tmp/ipykernel_23075/75420362.py:5: MatplotlibDeprecationWarning: The get_cmap function was deprecated in Matplotlib 3.7 and will be removed two minor releases later. Use ``matplotlib.colormaps[name]`` or ``matplotlib.colormaps.get_cmap(obj)`` instead.\n",
      "  density_colors = plt.get_cmap('plasma')(\n"
     ]
    }
   ],
   "source": [
    "import matplotlib as plt\n",
    "import matplotlib.cm as plt\n",
    "\n",
    "densities = np.asarray(densities)\n",
    "density_colors = plt.get_cmap('plasma')(\n",
    "    (densities - densities.min()) / (densities.max() - densities.min()))\n",
    "density_colors = density_colors[:, :3]\n",
    "density_mesh = o3d.geometry.TriangleMesh()\n",
    "density_mesh.vertices = mesh.vertices\n",
    "density_mesh.triangles = mesh.triangles\n",
    "density_mesh.triangle_normals = mesh.triangle_normals\n",
    "density_mesh.vertex_colors = o3d.utility.Vector3dVector(density_colors)\n",
    "o3d.visualization.draw_geometries([density_mesh])"
   ]
  },
  {
   "cell_type": "code",
   "execution_count": 21,
   "id": "4fd4825a-40e3-48ca-b462-bb67497ba7b4",
   "metadata": {},
   "outputs": [
    {
     "name": "stdout",
     "output_type": "stream",
     "text": [
      "remove low density vertices\n",
      "TriangleMesh with 496790 points and 1007212 triangles.\n"
     ]
    }
   ],
   "source": [
    "print('remove low density vertices')\n",
    "vertices_to_remove = densities < np.quantile(densities, 0.01)\n",
    "mesh.remove_vertices_by_mask(vertices_to_remove)\n",
    "print(mesh)\n",
    "o3d.visualization.draw_geometries([mesh])"
   ]
  }
 ],
 "metadata": {
  "kernelspec": {
   "display_name": "Python 3 (ipykernel)",
   "language": "python",
   "name": "python3"
  },
  "language_info": {
   "codemirror_mode": {
    "name": "ipython",
    "version": 3
   },
   "file_extension": ".py",
   "mimetype": "text/x-python",
   "name": "python",
   "nbconvert_exporter": "python",
   "pygments_lexer": "ipython3",
   "version": "3.10.12"
  }
 },
 "nbformat": 4,
 "nbformat_minor": 5
}
