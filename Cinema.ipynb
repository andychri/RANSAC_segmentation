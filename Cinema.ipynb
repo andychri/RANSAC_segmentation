{
 "cells": [
  {
   "cell_type": "code",
   "execution_count": 20,
   "id": "208cae20-5142-4a85-9479-ca21656bf93c",
   "metadata": {},
   "outputs": [
    {
     "name": "stdout",
     "output_type": "stream",
     "text": [
      "How many hours?: \n"
     ]
    },
    {
     "name": "stdin",
     "output_type": "stream",
     "text": [
      " 2\n"
     ]
    },
    {
     "name": "stdout",
     "output_type": "stream",
     "text": [
      "How many minutes?: \n"
     ]
    },
    {
     "name": "stdin",
     "output_type": "stream",
     "text": [
      " 10\n"
     ]
    },
    {
     "name": "stdout",
     "output_type": "stream",
     "text": [
      "Filmen er ferdig: 21:10\n"
     ]
    }
   ],
   "source": [
    "def when_is_movie_finished(start_tid):\n",
    "    commercial = 15\n",
    "    print(\"How many hours?: \")\n",
    "    hours = int(input())\n",
    "    print(\"How many minutes?: \")\n",
    "    minutes = int(input())\n",
    "\n",
    "    start_time = str(start_tid)[:2]\n",
    "    start_minutt = str(start_tid)[-2:]\n",
    "\n",
    "    timer = hours + int(start_time)\n",
    "    minutter = 0\n",
    "\n",
    "    if minutes + int(start_minutt) + commercial > 59:\n",
    "        timer += 1\n",
    "        minutter = (minutes + int(start_minutt) + commercial) % 60\n",
    "    else:\n",
    "        minutter = minutes + int(start_minutt) + commercial\n",
    "        \n",
    "    print(\"Filmen er ferdig: \" + str(timer) + \":\" + str(minutter))\n",
    "\n",
    "when_is_movie_finished(1845)"
   ]
  },
  {
   "cell_type": "code",
   "execution_count": null,
   "id": "b0bea6b5-3c5a-45c3-981a-c94689fd0819",
   "metadata": {},
   "outputs": [],
   "source": []
  }
 ],
 "metadata": {
  "kernelspec": {
   "display_name": "Python 3 (ipykernel)",
   "language": "python",
   "name": "python3"
  },
  "language_info": {
   "codemirror_mode": {
    "name": "ipython",
    "version": 3
   },
   "file_extension": ".py",
   "mimetype": "text/x-python",
   "name": "python",
   "nbconvert_exporter": "python",
   "pygments_lexer": "ipython3",
   "version": "3.10.12"
  }
 },
 "nbformat": 4,
 "nbformat_minor": 5
}
