{
 "cells": [
  {
   "cell_type": "markdown",
   "id": "dc722ed6-3669-4e19-916f-632b2f695acf",
   "metadata": {},
   "source": [
    "## Imports"
   ]
  },
  {
   "cell_type": "code",
   "execution_count": 37,
   "id": "ba249671-bd15-470e-90fb-6ef734664319",
   "metadata": {},
   "outputs": [],
   "source": [
    "import numpy as np\n",
    "import open3d as o3d\n",
    "from scipy.optimize import least_squares\n",
    "from sklearn.cluster import DBSCAN"
   ]
  },
  {
   "cell_type": "markdown",
   "id": "9a3b9952-bdd3-4aae-b634-3b74c42ce505",
   "metadata": {},
   "source": [
    "## Load point cloud"
   ]
  },
  {
   "cell_type": "code",
   "execution_count": 38,
   "id": "bc18dada-7df9-4a5e-81f9-095c52d8935a",
   "metadata": {},
   "outputs": [],
   "source": [
    "pcd = o3d.io.read_point_cloud(\"filtered2.pcd\")\n",
    "downpcd = pcd.voxel_down_sample(voxel_size=0.005)\n",
    "points = np.asarray(downpcd.points)\n",
    "downpcd.estimate_normals(search_param=o3d.geometry.KDTreeSearchParamHybrid(radius=0.01, max_nn=30))\n",
    "normals = np.asarray(downpcd.normals)"
   ]
  },
  {
   "cell_type": "markdown",
   "id": "cd8eff5d-a143-49b4-9f56-a8429fa0c70f",
   "metadata": {},
   "source": [
    "## RANSAC Cone"
   ]
  },
  {
   "cell_type": "code",
   "execution_count": 39,
   "id": "b25e6730-fe86-4d3d-a87b-3c28d0c34f1a",
   "metadata": {},
   "outputs": [],
   "source": [
    "def fit_cone(points):\n",
    "    def residuals(params, points):\n",
    "        x0, y0, z0, a, b, c, theta = params\n",
    "        direction_vector = np.array([a, b, c])\n",
    "        direction_vector /= np.linalg.norm(direction_vector)  # Normalize the direction vector\n",
    "        \n",
    "        # Vector from the cone vertex to the point\n",
    "        vector_to_point = points - np.array([x0, y0, z0])\n",
    "        \n",
    "        # Projection of the vector onto the cone's axis\n",
    "        projection_length = np.dot(vector_to_point, direction_vector)\n",
    "        projection = projection_length[:, np.newaxis] * direction_vector\n",
    "        \n",
    "        # Perpendicular distance from the point to the axis of the cone\n",
    "        perpendicular_distance = np.linalg.norm(vector_to_point - projection, axis=1)\n",
    "        \n",
    "        # Expected distance based on the cone's angle\n",
    "        expected_distance = np.tan(theta) * projection_length\n",
    "        \n",
    "        # Residuals are the difference between the actual and expected distances\n",
    "        return perpendicular_distance - expected_distance\n",
    "\n",
    "    # Initial guess for the cone parameters\n",
    "    x0, y0, z0 = np.mean(points, axis=0)\n",
    "    direction = np.array([0, 0, 1])  # Initial guess: cone points upwards\n",
    "    theta0 = np.pi / 6  # Initial guess: 30 degrees opening angle\n",
    "    initial_guess = [x0, y0, z0, direction[0], direction[1], direction[2], theta0]\n",
    "\n",
    "    result = least_squares(residuals, initial_guess, args=(points,))\n",
    "    return result.x\n",
    "\n",
    "def ransac_cone(points, threshold, iterations):\n",
    "    best_inliers = []\n",
    "    best_params = None\n",
    "\n",
    "    for _ in range(iterations):\n",
    "        sample = points[np.random.choice(points.shape[0], 5, replace=False)]\n",
    "        params = fit_cone(sample)\n",
    "        inliers = []\n",
    "\n",
    "        for point in points:\n",
    "            x0, y0, z0, a, b, c, theta = params\n",
    "            direction_vector = np.array([a, b, c])\n",
    "            direction_vector /= np.linalg.norm(direction_vector)\n",
    "            \n",
    "            vector_to_point = point - np.array([x0, y0, z0])\n",
    "            projection_length = np.dot(vector_to_point, direction_vector)\n",
    "            projection = projection_length * direction_vector\n",
    "            perpendicular_distance = np.linalg.norm(vector_to_point - projection)\n",
    "            expected_distance = np.tan(theta) * projection_length\n",
    "            \n",
    "            distance = np.abs(perpendicular_distance - expected_distance)\n",
    "            if distance < threshold:\n",
    "                inliers.append(point)\n",
    "\n",
    "        if len(inliers) > len(best_inliers):\n",
    "            best_inliers = inliers\n",
    "            best_params = params\n",
    "\n",
    "    return best_params, np.array(best_inliers)"
   ]
  },
  {
   "cell_type": "code",
   "execution_count": 40,
   "id": "1d6f5ba5-95cf-4195-8018-edc29b366608",
   "metadata": {},
   "outputs": [],
   "source": [
    "\n",
    "def fit_cone(points, theta_min, theta_max):\n",
    "    def residuals(params, points):\n",
    "        x0, y0, z0, a, b, c, theta = params\n",
    "        direction_vector = np.array([a, b, c])\n",
    "        direction_vector /= np.linalg.norm(direction_vector)  # Normalize the direction vector\n",
    "        \n",
    "        vector_to_point = points - np.array([x0, y0, z0])\n",
    "        projection_length = np.dot(vector_to_point, direction_vector)\n",
    "        projection = projection_length[:, np.newaxis] * direction_vector\n",
    "        perpendicular_distance = np.linalg.norm(vector_to_point - projection, axis=1)\n",
    "        expected_distance = np.tan(theta) * projection_length\n",
    "        return perpendicular_distance - expected_distance\n",
    "\n",
    "    # Initial guess for the cone parameters\n",
    "    x0, y0, z0 = np.mean(points, axis=0)\n",
    "    direction = np.array([0, 0, 1])  # Initial guess: cone points upwards\n",
    "    theta0 = np.pi / 4  # Initial guess: 45 degrees opening angle\n",
    "\n",
    "    # Convert theta_min and theta_max to bounds for optimization\n",
    "    tan_theta_min = np.tan(theta_min)\n",
    "    tan_theta_max = np.tan(theta_max)\n",
    "\n",
    "    # Set up bounds for [x0, y0, z0, a, b, c, theta] parameters\n",
    "    bounds_lower = [-np.inf, -np.inf, -np.inf, -np.inf, -np.inf, -np.inf, tan_theta_min]\n",
    "    bounds_upper = [np.inf, np.inf, np.inf, np.inf, np.inf, np.inf, tan_theta_max]\n",
    "\n",
    "    initial_guess = [x0, y0, z0, direction[0], direction[1], direction[2], theta0]\n",
    "    result = least_squares(residuals, initial_guess, args=(points,), bounds=(bounds_lower, bounds_upper))\n",
    "    return result.x"
   ]
  },
  {
   "cell_type": "code",
   "execution_count": 30,
   "id": "bb9c607f-0cd2-4a54-b668-d02799189f1f",
   "metadata": {},
   "outputs": [],
   "source": [
    "def fit_cone(points):\n",
    "    def residuals(params, points):\n",
    "        x0, y0, z0, a, b, c, theta = params\n",
    "        direction_vector = np.array([a, b, c])\n",
    "        direction_vector /= np.linalg.norm(direction_vector)  # Normalize the direction vector\n",
    "        \n",
    "        vector_to_point = points - np.array([x0, y0, z0])\n",
    "        projection_length = np.dot(vector_to_point, direction_vector)\n",
    "        projection = projection_length[:, np.newaxis] * direction_vector\n",
    "        perpendicular_distance = np.linalg.norm(vector_to_point - projection, axis=1)\n",
    "        expected_distance = np.tan(theta) * projection_length\n",
    "        return perpendicular_distance - expected_distance\n",
    "\n",
    "    # Initial guess for the cone parameters\n",
    "    x0, y0, z0 = np.mean(points, axis=0)\n",
    "    direction = np.array([0, 0, 1])  # Initial guess: cone points upwards\n",
    "    theta0 = np.pi / 4  # Initial guess: 45 degrees opening angle\n",
    "    initial_guess = [x0, y0, z0, direction[0], direction[1], direction[2], theta0]\n",
    "\n",
    "    result = least_squares(residuals, initial_guess, args=(points,))\n",
    "    return result.x\n",
    "\n",
    "def ransac_cone(points, threshold, iterations, angle_min_deg, angle_max_deg, radius_min, radius_max):\n",
    "    # Convert degrees to radians for internal use\n",
    "    theta_min = np.radians(angle_min_deg)\n",
    "    theta_max = np.radians(angle_max_deg)\n",
    "\n",
    "    best_inliers = []\n",
    "    best_params = None\n",
    "\n",
    "    for _ in range(iterations):\n",
    "        sample = points[np.random.choice(points.shape[0], 5, replace=False)]\n",
    "        params = fit_cone(sample)\n",
    "        x0, y0, z0, a, b, c, theta = params\n",
    "\n",
    "        # Check if the resulting theta is within the specified bounds\n",
    "        if theta_min <= theta <= theta_max:\n",
    "            direction_vector = np.array([a, b, c])\n",
    "            direction_vector /= np.linalg.norm(direction_vector)\n",
    "            sample_center = np.mean(sample, axis=0)\n",
    "            \n",
    "            # Calculate the height and radius of the cone\n",
    "            vector_to_sample_center = sample_center - np.array([x0, y0, z0])\n",
    "            height = np.dot(vector_to_sample_center, direction_vector)\n",
    "            radius = height * np.tan(theta)\n",
    "            \n",
    "            # Check if the radius is within the specified bounds\n",
    "            if radius_min <= radius <= radius_max:\n",
    "                inliers = []\n",
    "                for point in points:\n",
    "                    vector_to_point = point - np.array([x0, y0, z0])\n",
    "                    projection_length = np.dot(vector_to_point, direction_vector)\n",
    "                    projection = projection_length * direction_vector\n",
    "                    perpendicular_distance = np.linalg.norm(vector_to_point - projection)\n",
    "                    expected_distance = np.tan(theta) * projection_length\n",
    "                    \n",
    "                    distance = np.abs(perpendicular_distance - expected_distance)\n",
    "                    if distance < threshold:\n",
    "                        inliers.append(point)\n",
    "\n",
    "                if len(inliers) > len(best_inliers):\n",
    "                    best_inliers = inliers\n",
    "                    best_params = params\n",
    "\n",
    "    return best_params, np.array(best_inliers)"
   ]
  },
  {
   "cell_type": "markdown",
   "id": "0092aaba-c482-40c5-877a-cbfaed28ea79",
   "metadata": {},
   "source": [
    "## Run RANSAC"
   ]
  },
  {
   "cell_type": "code",
   "execution_count": 35,
   "id": "5f9e3976-c69e-464f-902d-f663f7b930c3",
   "metadata": {},
   "outputs": [],
   "source": [
    "theta_min = np.pi / 6  # 30 degrees\n",
    "theta_max = np.pi / 3  # 60 degrees\n",
    "cone_params, cone_inliers = ransac_cone(points, threshold=0.005, iterations=500, angle_min_deg=45, angle_max_deg=60, radius_min=0.0, radius_max=0.05)"
   ]
  },
  {
   "cell_type": "markdown",
   "id": "6986a334-b893-4aef-a6ff-c8b530188e94",
   "metadata": {},
   "source": [
    "## Visualization"
   ]
  },
  {
   "cell_type": "code",
   "execution_count": 36,
   "id": "05580336-553b-4ea4-b9ff-4a78bc1884b9",
   "metadata": {},
   "outputs": [],
   "source": [
    "cone_cloud = o3d.geometry.PointCloud()\n",
    "cone_cloud.points = o3d.utility.Vector3dVector(cone_inliers)\n",
    "cone_cloud.paint_uniform_color([1,0,0])\n",
    "\n",
    "downpcd.paint_uniform_color([0,0,0])\n",
    "\n",
    "o3d.visualization.draw_geometries([downpcd, cone_cloud])"
   ]
  }
 ],
 "metadata": {
  "kernelspec": {
   "display_name": "Python 3 (ipykernel)",
   "language": "python",
   "name": "python3"
  },
  "language_info": {
   "codemirror_mode": {
    "name": "ipython",
    "version": 3
   },
   "file_extension": ".py",
   "mimetype": "text/x-python",
   "name": "python",
   "nbconvert_exporter": "python",
   "pygments_lexer": "ipython3",
   "version": "3.10.12"
  }
 },
 "nbformat": 4,
 "nbformat_minor": 5
}
