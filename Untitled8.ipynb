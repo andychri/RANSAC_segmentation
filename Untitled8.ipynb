{
 "cells": [
  {
   "cell_type": "code",
   "execution_count": 1,
   "id": "31fdf5c8-18f0-4919-96e3-612e008b25c3",
   "metadata": {},
   "outputs": [
    {
     "name": "stdout",
     "output_type": "stream",
     "text": [
      "Jupyter environment detected. Enabling Open3D WebVisualizer.\n",
      "[Open3D INFO] WebRTC GUI backend enabled.\n",
      "[Open3D INFO] WebRTCWindowSystem: HTTP handshake server disabled.\n"
     ]
    }
   ],
   "source": [
    "import numpy as np\n",
    "import open3d as o3d\n",
    "import matplotlib.pyplot as plt"
   ]
  },
  {
   "cell_type": "code",
   "execution_count": 2,
   "id": "4e30b986-2c07-4fdb-a59f-450c5457c1a1",
   "metadata": {},
   "outputs": [],
   "source": [
    "pcd = o3d.io.read_point_cloud(\"filtered.pcd\")"
   ]
  },
  {
   "cell_type": "code",
   "execution_count": 4,
   "id": "d44353cf-0051-4cd2-b050-8cc0dd83b158",
   "metadata": {},
   "outputs": [
    {
     "data": {
      "text/plain": [
       "PointCloud with 172285 points."
      ]
     },
     "execution_count": 4,
     "metadata": {},
     "output_type": "execute_result"
    }
   ],
   "source": [
    "pcd_center = pcd.get_center()\n",
    "pcd.translate(-pcd_center)"
   ]
  },
  {
   "cell_type": "code",
   "execution_count": 5,
   "id": "b42828ef-e8e1-4cf2-915d-537f9b3758d5",
   "metadata": {},
   "outputs": [],
   "source": [
    "o3d.visualization.draw_geometries([pcd])"
   ]
  },
  {
   "cell_type": "code",
   "execution_count": 6,
   "id": "c85f3183-e7dd-4033-9f6e-84f77dce15db",
   "metadata": {},
   "outputs": [],
   "source": [
    "retained_ratio = 0.2\n",
    "sampled_pcd = pcd.random_down_sample(retained_ratio)"
   ]
  },
  {
   "cell_type": "code",
   "execution_count": 8,
   "id": "180e4796-c5a2-4fc8-b582-2d0269774142",
   "metadata": {},
   "outputs": [],
   "source": [
    "o3d.visualization.draw_geometries([sampled_pcd])"
   ]
  },
  {
   "cell_type": "code",
   "execution_count": 18,
   "id": "123b4d3b-9fa2-4af4-81ea-aed83ff8bc2b",
   "metadata": {},
   "outputs": [],
   "source": [
    "voxel_size = 0.01\n",
    "pcd_downsampled = sampled_pcd.voxel_down_sample(voxel_size = voxel_size)"
   ]
  },
  {
   "cell_type": "code",
   "execution_count": 19,
   "id": "fa120c10-86f3-4e1a-a0d7-3bc4fdd36dac",
   "metadata": {},
   "outputs": [],
   "source": [
    "o3d.visualization.draw_geometries([pcd_downsampled])"
   ]
  },
  {
   "cell_type": "code",
   "execution_count": 20,
   "id": "2469e293-d30c-4e12-9574-24a731f1ac18",
   "metadata": {},
   "outputs": [],
   "source": [
    "nn_distance = 0.05\n",
    "radius_normals=nn_distance*4\n",
    "pcd_downsampled.estimate_normals(search_param=o3d.geometry.KDTreeSearchParamHybrid(radius=radius_normals, max_nn=16), fast_normal_computation=True)"
   ]
  },
  {
   "cell_type": "code",
   "execution_count": 21,
   "id": "afb4f604-f79b-4464-b62c-ca74e122ec93",
   "metadata": {},
   "outputs": [],
   "source": [
    "pcd_downsampled.paint_uniform_color([0.6, 0.6, 0.6])\n",
    "o3d.visualization.draw_geometries([pcd_downsampled])"
   ]
  },
  {
   "cell_type": "markdown",
   "id": "94456bf0-97f0-41dc-a960-11c03a05d9eb",
   "metadata": {},
   "source": [
    "## RANSAC"
   ]
  },
  {
   "cell_type": "code",
   "execution_count": 26,
   "id": "b4c581bc-ca84-4ce3-b7d5-c50c53fe4249",
   "metadata": {},
   "outputs": [],
   "source": [
    "nn_distance = np.mean(pcd.compute_nearest_neighbor_distance())\n",
    "\n",
    "distance_threshold = 0.01\n",
    "ransac_n = 3\n",
    "num_iterations = 1000"
   ]
  },
  {
   "cell_type": "code",
   "execution_count": 27,
   "id": "5e1a4b9a-2595-4718-ace1-406f542af05e",
   "metadata": {},
   "outputs": [
    {
     "name": "stdout",
     "output_type": "stream",
     "text": [
      "Plane equation: 0.25x + 0.71y + 0.66z + -0.02 = 0\n"
     ]
    }
   ],
   "source": [
    "plane_model, inliers = pcd.segment_plane(distance_threshold=distance_threshold,ransac_n=3,num_iterations=1000)\n",
    "[a, b, c, d] = plane_model\n",
    "print(f\"Plane equation: {a:.2f}x + {b:.2f}y + {c:.2f}z + {d:.2f} = 0\")"
   ]
  },
  {
   "cell_type": "code",
   "execution_count": null,
   "id": "47f67c52-4e12-43bd-9c3b-c2274292751e",
   "metadata": {},
   "outputs": [],
   "source": []
  },
  {
   "cell_type": "code",
   "execution_count": 28,
   "id": "dc09b683-9994-40b3-8620-41090be6b2e6",
   "metadata": {},
   "outputs": [],
   "source": [
    "inlier_cloud = pcd.select_by_index(inliers)\n",
    "outlier_cloud = pcd.select_by_index(inliers, invert=True)\n",
    "\n",
    "#Paint the clouds\n",
    "inlier_cloud.paint_uniform_color([1.0, 0, 0])\n",
    "outlier_cloud.paint_uniform_color([0.6, 0.6, 0.6])\n",
    "\n",
    "#Visualize the inliers and outliers\n",
    "o3d.visualization.draw_geometries([inlier_cloud, outlier_cloud])"
   ]
  }
 ],
 "metadata": {
  "kernelspec": {
   "display_name": "Python 3 (ipykernel)",
   "language": "python",
   "name": "python3"
  },
  "language_info": {
   "codemirror_mode": {
    "name": "ipython",
    "version": 3
   },
   "file_extension": ".py",
   "mimetype": "text/x-python",
   "name": "python",
   "nbconvert_exporter": "python",
   "pygments_lexer": "ipython3",
   "version": "3.10.12"
  }
 },
 "nbformat": 4,
 "nbformat_minor": 5
}
