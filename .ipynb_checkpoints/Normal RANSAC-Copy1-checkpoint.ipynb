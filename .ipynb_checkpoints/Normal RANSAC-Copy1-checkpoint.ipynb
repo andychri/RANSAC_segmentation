{
 "cells": [
  {
   "cell_type": "markdown",
   "id": "5d331263-d8f5-42c9-ae10-4fc1dbc92afa",
   "metadata": {},
   "source": [
    "## Imports"
   ]
  },
  {
   "cell_type": "code",
   "execution_count": 1,
   "id": "d6aa3cf9-9d8a-4055-8bc5-fdb41b177257",
   "metadata": {},
   "outputs": [
    {
     "name": "stdout",
     "output_type": "stream",
     "text": [
      "Jupyter environment detected. Enabling Open3D WebVisualizer.\n",
      "[Open3D INFO] WebRTC GUI backend enabled.\n",
      "[Open3D INFO] WebRTCWindowSystem: HTTP handshake server disabled.\n"
     ]
    }
   ],
   "source": [
    "import numpy as np\n",
    "import open3d as o3d\n",
    "import pandas as pd\n",
    "import os\n",
    "from scipy.optimize import least_squares\n",
    "from sklearn.cluster import DBSCAN\n",
    "from sklearn.decomposition import PCA\n",
    "%run supporting_functions.ipynb"
   ]
  },
  {
   "cell_type": "markdown",
   "id": "80636478-2a4e-4e16-9475-02b75157fb35",
   "metadata": {},
   "source": [
    "## Load and preprocess the cloud"
   ]
  },
  {
   "cell_type": "code",
   "execution_count": 2,
   "id": "03b03d25-bb73-40d1-9954-20cc292bd4a8",
   "metadata": {},
   "outputs": [],
   "source": [
    "def process_point_cloud(file_path, alpha=0.006, eps=0.02, min_samples=10, normal_radius=0.01, max_nn=30):\n",
    "    \"\"\"\n",
    "    Process a point cloud to create a concave hull, extract surface points, \n",
    "    and reorient normals for identified clusters.\n",
    "    \n",
    "    Parameters:\n",
    "    - file_path (str): Path to the point cloud file (.pcd).\n",
    "    - alpha (float): Alpha value for Alpha Shape algorithm.\n",
    "    - eps (float): Maximum distance for DBSCAN clustering.\n",
    "    - min_samples (int): Minimum samples for DBSCAN clustering.\n",
    "    - normal_radius (float): Search radius for normal estimation.\n",
    "    - max_nn (int): Maximum neighbors for normal estimation.\n",
    "    \n",
    "    Returns:\n",
    "    - points (np.ndarray): Array of points in the processed point cloud.\n",
    "    - normals (np.ndarray): Array of normals in the processed point cloud.\n",
    "    \"\"\"\n",
    "    # Load the point cloud\n",
    "    pcd = o3d.io.read_point_cloud(file_path)\n",
    "\n",
    "    # Create a concave hull (outer boundary) of the point cloud using Alpha Shape\n",
    "    mesh = o3d.geometry.TriangleMesh.create_from_point_cloud_alpha_shape(pcd, alpha)\n",
    "\n",
    "    # Extract surface points from the hull and create a new point cloud\n",
    "    surface_points = np.asarray(mesh.vertices)\n",
    "    surface_cloud = o3d.geometry.PointCloud()\n",
    "    surface_cloud.points = o3d.utility.Vector3dVector(surface_points)\n",
    "    surface_cloud.estimate_normals(search_param=o3d.geometry.KDTreeSearchParamHybrid(radius=normal_radius, max_nn=max_nn))\n",
    "\n",
    "    # Convert to numpy array for clustering\n",
    "    points_np = np.asarray(surface_cloud.points)\n",
    "\n",
    "    # Perform DBSCAN to identify clusters (objects) in the scene\n",
    "    dbscan = DBSCAN(eps=eps, min_samples=min_samples).fit(points_np)\n",
    "    labels = dbscan.labels_\n",
    "\n",
    "    # Initialize an array for normals\n",
    "    normals_np = np.asarray(surface_cloud.normals)\n",
    "\n",
    "    # Process each cluster independently to ensure normals point outward from each cluster's centroid\n",
    "    for label in np.unique(labels):\n",
    "        if label == -1:\n",
    "            continue  # Skip noise points\n",
    "        cluster_indices = np.where(labels == label)[0]\n",
    "        cluster_points = points_np[cluster_indices]\n",
    "        \n",
    "        # Calculate centroid for each cluster\n",
    "        cluster_centroid = np.mean(cluster_points, axis=0)\n",
    "        \n",
    "        # Reorient normals in the cluster to ensure they point outward from the cluster's centroid\n",
    "        for idx in cluster_indices:\n",
    "            normal = normals_np[idx]\n",
    "            vector_to_point = points_np[idx] - cluster_centroid\n",
    "            if np.dot(normal, vector_to_point) < 0:\n",
    "                normals_np[idx] = -normal\n",
    "\n",
    "    # Update the surface cloud with reoriented normals\n",
    "    surface_cloud.normals = o3d.utility.Vector3dVector(normals_np)\n",
    "\n",
    "    # Optional: Visualization\n",
    "    o3d.visualization.draw_geometries([surface_cloud], point_show_normal=True)\n",
    "\n",
    "    # Extract final normals and points arrays for further processing if needed\n",
    "    normals = np.asarray(surface_cloud.normals)\n",
    "    points = np.asarray(surface_cloud.points)\n",
    "    \n",
    "    return points, normals , surface_cloud"
   ]
  },
  {
   "cell_type": "markdown",
   "id": "34b48ee7-dcd0-4746-85e0-5f664ba19a68",
   "metadata": {},
   "source": [
    "## RANSAC METHODS"
   ]
  },
  {
   "cell_type": "markdown",
   "id": "64c6fe95-00d5-4078-8219-bd213d62985f",
   "metadata": {},
   "source": [
    "### Plane"
   ]
  },
  {
   "cell_type": "code",
   "execution_count": 3,
   "id": "d48c4bc6-e85d-4c64-a211-0fcf005cfe02",
   "metadata": {},
   "outputs": [],
   "source": [
    "def fit_plane(points):\n",
    "    \"\"\"\n",
    "    Fit a plane to three points and return the plane parameters and normal vector.\n",
    "    \"\"\"\n",
    "    centroid = np.mean(points, axis=0)\n",
    "    centered_points = points - centroid\n",
    "    _, _, vh = np.linalg.svd(centered_points)\n",
    "    normal = vh[2, :] \n",
    "    d = -np.dot(normal, centroid)\n",
    "    return np.append(normal, d), normal\n",
    "\n",
    "def angle_between_vectors(v1, v2):\n",
    "    \"\"\"\n",
    "    Calculate the angle between two vectors in degrees.\n",
    "    \"\"\"\n",
    "    v1_u = v1 / np.linalg.norm(v1)\n",
    "    v2_u = v2 / np.linalg.norm(v2)\n",
    "    dot_product = np.clip(np.dot(v1_u, v2_u), -1.0, 1.0)\n",
    "    angle = np.arccos(dot_product)\n",
    "    return np.degrees(angle)\n",
    "\n",
    "def validate_plane_with_normals(plane_normal, normals, alpha):\n",
    "    \"\"\"\n",
    "    Check if the deviation of each of the three normals from the plane normal is within angle alpha.\n",
    "    \"\"\"\n",
    "    for normal in normals:\n",
    "        angle = angle_between_vectors(plane_normal, normal)\n",
    "        if angle > alpha:\n",
    "            return False\n",
    "    return True\n",
    "\n",
    "# Function to calculate distance from points to plane\n",
    "def distance_to_plane(points, plane_params):\n",
    "    a, b, c, d = plane_params\n",
    "    plane_normal = np.array([a, b, c])\n",
    "    distances = np.abs(np.dot(points, plane_normal) + d) / np.linalg.norm(plane_normal)\n",
    "    return distances\n",
    "\n",
    "def ransac_plane(points, normals, threshold, iterations, alpha, eps=0.01, min_samples=5):\n",
    "    \"\"\"\n",
    "    RANSAC plane fitting with connectivity check where candidate planes are validated using the normals of the initial three points.\n",
    "\n",
    "    Parameters:\n",
    "        points (ndarray): Nx3 array of 3D points.\n",
    "        normals (ndarray): Nx3 array of normal vectors for each point.\n",
    "        threshold (float): Distance threshold for inlier consideration.\n",
    "        iterations (int): Number of RANSAC iterations.\n",
    "        alpha (float): Angular threshold in degrees for validating the three-point normals.\n",
    "        eps (float): DBSCAN epsilon for connectivity check.\n",
    "        min_samples (int): DBSCAN minimum samples for cluster formation.\n",
    "\n",
    "    Returns:\n",
    "        best_params (ndarray): Best-fit plane parameters [a, b, c, d].\n",
    "        best_inliers (ndarray): Points that are inliers for the best-fit plane.\n",
    "    \"\"\"\n",
    "    best_inliers = []\n",
    "    best_params = None\n",
    "    best_score = 0\n",
    "\n",
    "    for i in range(iterations):\n",
    "        # Randomly select three points to define a candidate plane\n",
    "        sample_indices = np.random.choice(points.shape[0], 3, replace=False)\n",
    "        sample_points = points[sample_indices]\n",
    "        sample_normals = normals[sample_indices]\n",
    "\n",
    "        # Fit the plane to these three points\n",
    "        plane_params, plane_normal = fit_plane(sample_points)\n",
    "\n",
    "        # Validate the plane using the normals of the three points\n",
    "        if not validate_plane_with_normals(plane_normal, sample_normals, alpha):\n",
    "            continue  # Reject this candidate plane if it doesn't pass the normal validation\n",
    "\n",
    "        # After passing validation, find inliers based on distance to the plane\n",
    "        distances = distance_to_plane(points, plane_params)\n",
    "        inliers = points[distances < threshold]\n",
    "\n",
    "        # Apply DBSCAN to check for connectivity and get the largest cluster\n",
    "        connected_inliers = apply_connectivity_check(inliers, eps=eps, min_samples=min_samples)\n",
    "\n",
    "        # Update the best plane if this one has more connected inliers\n",
    "        if len(connected_inliers) > best_score:\n",
    "            best_score = len(connected_inliers)\n",
    "            best_inliers = connected_inliers\n",
    "            best_params = plane_params\n",
    "\n",
    "    return best_params, best_inliers"
   ]
  },
  {
   "cell_type": "markdown",
   "id": "1ea191fc-c7ed-415a-8c24-d3ca5b1831b6",
   "metadata": {},
   "source": [
    "### Cylinder"
   ]
  },
  {
   "cell_type": "code",
   "execution_count": 4,
   "id": "89699019-094e-4df2-8f01-691e4f24a754",
   "metadata": {},
   "outputs": [],
   "source": [
    "def calculate_cylinder_axis(normal1, normal2):\n",
    "    axis_direction = np.cross(normal1, normal2)\n",
    "    axis_direction /= np.linalg.norm(axis_direction)\n",
    "    return axis_direction\n",
    "\n",
    "def project_point_onto_plane(point, plane_point, plane_normal):\n",
    "    to_point = point - plane_point\n",
    "    distance = np.dot(to_point, plane_normal)\n",
    "    projection = point - distance * plane_normal\n",
    "    return projection\n",
    "\n",
    "def calculate_cylinder_center(point1, normal1, point2, normal2, axis_direction):\n",
    "    plane_point = point1\n",
    "    plane_normal = axis_direction\n",
    "\n",
    "    line1_proj = project_point_onto_plane(point1, plane_point, plane_normal)\n",
    "    line2_proj = project_point_onto_plane(point2, plane_point, plane_normal)\n",
    "\n",
    "    line1_direction = normal1 - np.dot(normal1, axis_direction) * axis_direction\n",
    "    line2_direction = normal2 - np.dot(normal2, axis_direction) * axis_direction\n",
    "\n",
    "    line_offset = line2_proj - line1_proj\n",
    "    a = np.dot(line1_direction, line1_direction)\n",
    "    b = np.dot(line1_direction, line2_direction)\n",
    "    c = np.dot(line2_direction, line2_direction)\n",
    "    d = np.dot(line1_direction, line_offset)\n",
    "    e = np.dot(line2_direction, line_offset)\n",
    "    denominator = a * c - b * b\n",
    "\n",
    "    if np.abs(denominator) < 1e-6:\n",
    "        cylinder_center = (line1_proj + line2_proj) / 2\n",
    "    else:\n",
    "        s = (b * e - c * d) / denominator\n",
    "        t = (a * e - b * d) / denominator\n",
    "        closest_point1 = line1_proj + s * line1_direction\n",
    "        closest_point2 = line2_proj + t * line2_direction\n",
    "        cylinder_center = (closest_point1 + closest_point2) / 2\n",
    "\n",
    "    return cylinder_center\n",
    "\n",
    "def calculate_cylinder_radius(center, point_on_cylinder, axis_direction):\n",
    "    projected_point = project_point_onto_plane(point_on_cylinder, center, axis_direction)\n",
    "    radius = np.linalg.norm(projected_point - center)\n",
    "    return radius\n",
    "\n",
    "def fit_cylinder_with_normals(points, normals, alpha, min_radius, max_radius):\n",
    "    point1, point2, point3 = points[:3]\n",
    "    normal1, normal2, normal3 = normals[:3]\n",
    "\n",
    "    axis_direction = calculate_cylinder_axis(normal1, normal2)\n",
    "    cylinder_center = calculate_cylinder_center(point1, normal1, point2, normal2, axis_direction)\n",
    "    radius = calculate_cylinder_radius(cylinder_center, point1, axis_direction)\n",
    "\n",
    "    if radius < min_radius or radius > max_radius:\n",
    "        return None  \n",
    "\n",
    "    def angle_to_axis(normal):\n",
    "        angle = np.degrees(np.arccos(np.clip(np.dot(normal, axis_direction), -1.0, 1.0)))\n",
    "        return abs(angle - 90)\n",
    "\n",
    "    if all(angle_to_axis(normal) <= alpha for normal in [normal1, normal2, normal3]):\n",
    "        return axis_direction, cylinder_center, radius\n",
    "    else:\n",
    "        return None  \n",
    "\n",
    "def ransac_cylinder(points, normals, threshold, iterations, alpha, min_radius, max_radius, eps=0.01, min_samples=5):\n",
    "    best_inliers = []\n",
    "    best_params = None\n",
    "    best_score = 0\n",
    "\n",
    "    for i in range(iterations):\n",
    "        # Randomly select three points and their normals to define a cylinder\n",
    "        sample_indices = np.random.choice(points.shape[0], 3, replace=False)\n",
    "        sample_points = points[sample_indices]\n",
    "        sample_normals = normals[sample_indices]\n",
    "\n",
    "        # Fit cylinder with the selected points and normals\n",
    "        cylinder = fit_cylinder_with_normals(sample_points, sample_normals, alpha, min_radius, max_radius)\n",
    "        if cylinder is None:\n",
    "            continue  \n",
    "\n",
    "        axis_direction, cylinder_center, radius = cylinder\n",
    "        inliers = []\n",
    "        \n",
    "        # Calculate inliers based on distance and angle constraints\n",
    "        for idx, (point, normal) in enumerate(zip(points, normals)):\n",
    "            vector_to_point = point - cylinder_center\n",
    "            projection_length = np.dot(vector_to_point, axis_direction)\n",
    "            projection = projection_length * axis_direction\n",
    "            perpendicular_distance = np.linalg.norm(vector_to_point - projection)\n",
    "            distance = np.abs(perpendicular_distance - radius)\n",
    "\n",
    "            angle_to_axis = abs(np.degrees(np.arccos(np.clip(np.dot(normal, axis_direction), -1.0, 1.0))) - 90)\n",
    "            if distance < threshold and angle_to_axis <= alpha:\n",
    "                inliers.append(point)  # Collect inliers as points\n",
    "\n",
    "        inliers = np.array(inliers)  # Convert inliers list to an array\n",
    "\n",
    "        # Apply connectivity check using DBSCAN to retain largest contiguous cluster\n",
    "        connected_inliers = apply_connectivity_check(inliers, eps=eps, min_samples=min_samples)\n",
    "        \n",
    "        # Update best parameters if this model has the most inliers\n",
    "        if len(connected_inliers) > best_score:\n",
    "            best_score = len(connected_inliers)\n",
    "            best_inliers = connected_inliers\n",
    "            best_params = cylinder\n",
    "            \n",
    "\n",
    "    if best_params:\n",
    "        axis_direction, cylinder_center, radius = best_params\n",
    "        return best_params, best_inliers\n",
    "    else:\n",
    "        print(\"No valid cylinder found.\")\n",
    "        return None, None"
   ]
  },
  {
   "cell_type": "markdown",
   "id": "2607713e-b817-4ef4-8224-54815196fd48",
   "metadata": {},
   "source": [
    "## Main"
   ]
  },
  {
   "cell_type": "code",
   "execution_count": 5,
   "id": "60376ac7-9a45-4f61-be76-9e4a83e63f70",
   "metadata": {},
   "outputs": [],
   "source": [
    "def ransac_main(points, normals, plane_threshold, cylinder_threshold, iterations, num_planes, num_cylinders, \n",
    "                plane_alpha, cylinder_alpha, min_radius, max_radius, eps, min_samples):\n",
    "    segmented_objects = []\n",
    "    remaining_points = points.copy()\n",
    "    remaining_normals = normals.copy()\n",
    "    \n",
    "    planes_found = 0\n",
    "    cylinders_found = 0\n",
    "    \n",
    "    while planes_found < num_planes or cylinders_found < num_cylinders:\n",
    "        best_inliers = []\n",
    "        best_params = None\n",
    "        best_model = None\n",
    "        best_score = 0\n",
    "\n",
    "        # Try to find a cylinder with its specific alpha\n",
    "        if cylinders_found < num_cylinders:\n",
    "            cylinder_params, cylinder_inliers = ransac_cylinder(\n",
    "                remaining_points, remaining_normals, cylinder_threshold, iterations, cylinder_alpha, min_radius, max_radius, eps, min_samples\n",
    "            )\n",
    "            if cylinder_params is not None and len(cylinder_inliers) > best_score:\n",
    "                best_params = cylinder_params\n",
    "                best_inliers = cylinder_inliers\n",
    "                best_model = 'cylinder'\n",
    "                best_score = len(cylinder_inliers)\n",
    "\n",
    "        # Try to find a plane with its specific alpha\n",
    "        if planes_found < num_planes:\n",
    "            plane_params, plane_inliers = ransac_plane(\n",
    "                remaining_points, remaining_normals, plane_threshold, iterations, plane_alpha, eps, min_samples\n",
    "            )\n",
    "            if plane_params is not None and len(plane_inliers) > best_score:\n",
    "                best_params = plane_params\n",
    "                best_inliers = plane_inliers\n",
    "                best_model = 'plane'\n",
    "                best_score = len(plane_inliers)\n",
    "\n",
    "        # If a model was found, store it and remove inliers\n",
    "        if best_model:\n",
    "            print(f\"Found {best_model.capitalize()} with {best_score} inliers\")\n",
    "            \n",
    "            # Initialize segmented object details\n",
    "            segmented_object = {\n",
    "                'model': best_model,\n",
    "                'params': best_params,\n",
    "                'inliers': best_inliers\n",
    "            }\n",
    "\n",
    "            # Get additional statistics based on model type\n",
    "            if best_model == 'cylinder':\n",
    "                stats = cylinder_statistics(cylinder_inliers, best_params)\n",
    "                segmented_object.update(stats)\n",
    "                cylinders_found += 1\n",
    "            elif best_model == 'plane':\n",
    "                stats = plane_statistics(plane_inliers, best_params)\n",
    "                segmented_object.update(stats)\n",
    "                planes_found += 1\n",
    "\n",
    "            segmented_objects.append(segmented_object)\n",
    "\n",
    "            # Remove inliers from remaining points and normals\n",
    "            remaining_points = np.array([pt for pt in remaining_points if pt not in best_inliers])\n",
    "            remaining_normals = np.array([normal for i, normal in enumerate(remaining_normals) if i not in best_inliers])\n",
    "\n",
    "        # Exit if no more shapes are needed or no points left\n",
    "        if len(remaining_points) == 0 or (planes_found >= num_planes and cylinders_found >= num_cylinders):\n",
    "            break\n",
    "\n",
    "    return segmented_objects"
   ]
  },
  {
   "cell_type": "markdown",
   "id": "c78f3abb-3849-46b8-80bf-5fbd6b15f37f",
   "metadata": {},
   "source": [
    "# Testing Ground\n",
    "## Experiment with the stup here"
   ]
  },
  {
   "cell_type": "markdown",
   "id": "48fde05e-c129-4d0c-a48e-4cdc96152d9a",
   "metadata": {},
   "source": [
    "## Load\n",
    "The available point clouds are scene1, scene2, and scene3. Feel free to upload any other .pcd files. Adjust the alpha value to adjust the tightness of the hull"
   ]
  },
  {
   "cell_type": "code",
   "execution_count": 6,
   "id": "f9cd234b-892b-466b-803e-7b5dda3c2c4e",
   "metadata": {},
   "outputs": [],
   "source": [
    "points, normals, surface_cloud = process_point_cloud(\"scene1.pcd\", alpha=0.006, eps=0.02, min_samples=10, normal_radius=0.01, max_nn=30)"
   ]
  },
  {
   "cell_type": "markdown",
   "id": "d6862da4-5873-4d32-99dd-604315b5824e",
   "metadata": {},
   "source": [
    "## Fitting\n",
    "Decide the parameters of the point cloud. The thresholds, number of cylinder and planes, threshold and radius."
   ]
  },
  {
   "cell_type": "code",
   "execution_count": 7,
   "id": "21d7b8a4-6511-4171-ad95-0b0e876b3858",
   "metadata": {},
   "outputs": [
    {
     "name": "stdout",
     "output_type": "stream",
     "text": [
      "Found Cylinder with 738 inliers\n"
     ]
    }
   ],
   "source": [
    "segments = ransac_main(points, normals, 0.004, 0.004, 1000, 0, 1, 30, 50, min_radius=0.01, max_radius=0.03, eps=0.01, min_samples=5)"
   ]
  },
  {
   "cell_type": "markdown",
   "id": "12df1cb4-a70c-4164-85e4-6671966e5c8c",
   "metadata": {},
   "source": [
    "## Display results\n",
    "- With the background cloud\n",
    "- Or without"
   ]
  },
  {
   "cell_type": "code",
   "execution_count": 8,
   "id": "d767822f-d646-44b6-9bcb-558d0bf8194d",
   "metadata": {},
   "outputs": [],
   "source": [
    "visualize_segments_by_model_type(segments, surface_cloud)"
   ]
  },
  {
   "cell_type": "code",
   "execution_count": 9,
   "id": "f002bf41-f340-481d-a95d-14246a1fdeda",
   "metadata": {},
   "outputs": [
    {
     "name": "stdout",
     "output_type": "stream",
     "text": [
      "Segment 0: Model = cylinder, Color = Red\n"
     ]
    }
   ],
   "source": [
    "visualize_segments_in_order(segments)"
   ]
  },
  {
   "cell_type": "markdown",
   "id": "7dc03449-9ceb-4765-9334-3a5b68e4ac3a",
   "metadata": {},
   "source": [
    "## Display mesh\n",
    "Display meshes based on the segmented results"
   ]
  },
  {
   "cell_type": "code",
   "execution_count": 10,
   "id": "070f9b57-5930-442c-a8dc-a22b10d20aca",
   "metadata": {},
   "outputs": [
    {
     "data": {
      "text/plain": [
       "[PointCloud with 11060 points.,\n",
       " TriangleMesh with 102 points and 200 triangles.]"
      ]
     },
     "execution_count": 10,
     "metadata": {},
     "output_type": "execute_result"
    }
   ],
   "source": [
    "create_meshes_from_segments(segments, surface_cloud)"
   ]
  },
  {
   "cell_type": "markdown",
   "id": "c88cb5d3-09e5-421b-900b-3be1a61bff35",
   "metadata": {},
   "source": [
    "## Save"
   ]
  },
  {
   "cell_type": "code",
   "execution_count": 11,
   "id": "82f2d64f-b192-4b53-9ff7-13de37104376",
   "metadata": {},
   "outputs": [],
   "source": [
    "#save_segments_to_excel(segments, 'NormalRansac2.xlsx')"
   ]
  }
 ],
 "metadata": {
  "kernelspec": {
   "display_name": "Python 3 (ipykernel)",
   "language": "python",
   "name": "python3"
  },
  "language_info": {
   "codemirror_mode": {
    "name": "ipython",
    "version": 3
   },
   "file_extension": ".py",
   "mimetype": "text/x-python",
   "name": "python",
   "nbconvert_exporter": "python",
   "pygments_lexer": "ipython3",
   "version": "3.10.12"
  }
 },
 "nbformat": 4,
 "nbformat_minor": 5
}
