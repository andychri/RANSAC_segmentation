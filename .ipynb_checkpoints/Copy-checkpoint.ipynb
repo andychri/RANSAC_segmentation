{
 "cells": [
  {
   "cell_type": "markdown",
   "id": "faa2528f-7567-4a97-951b-650342c3a216",
   "metadata": {},
   "source": [
    "## Import libraries"
   ]
  },
  {
   "cell_type": "code",
   "execution_count": 1,
   "id": "62b94c57-db29-45f7-a7ae-2f9d4a805802",
   "metadata": {},
   "outputs": [
    {
     "name": "stdout",
     "output_type": "stream",
     "text": [
      "Jupyter environment detected. Enabling Open3D WebVisualizer.\n",
      "[Open3D INFO] WebRTC GUI backend enabled.\n",
      "[Open3D INFO] WebRTCWindowSystem: HTTP handshake server disabled.\n"
     ]
    }
   ],
   "source": [
    "import numpy as np\n",
    "import open3d as o3d\n",
    "from scipy.optimize import least_squares\n",
    "from sklearn.cluster import DBSCAN"
   ]
  },
  {
   "cell_type": "markdown",
   "id": "d974a674-1559-4bc0-89c4-015f6a5b463e",
   "metadata": {},
   "source": [
    "## Load point cloud"
   ]
  },
  {
   "cell_type": "code",
   "execution_count": 2,
   "id": "8ef9e769-3601-4509-b96e-57e476850e00",
   "metadata": {},
   "outputs": [],
   "source": [
    "pcd = o3d.io.read_point_cloud(\"filtered2.pcd\")"
   ]
  },
  {
   "cell_type": "markdown",
   "id": "fc6f5828-ac24-4190-a31e-dcd7a6883b19",
   "metadata": {},
   "source": [
    "## Visualize point cloud"
   ]
  },
  {
   "cell_type": "code",
   "execution_count": 3,
   "id": "368daaf4-f712-4c4d-8441-433499f2c56f",
   "metadata": {},
   "outputs": [],
   "source": [
    "o3d.visualization.draw_geometries([pcd])"
   ]
  },
  {
   "cell_type": "markdown",
   "id": "69efa947-c628-4bc1-911f-56d2d1e20f6c",
   "metadata": {},
   "source": [
    "## Voxelize point cloud"
   ]
  },
  {
   "cell_type": "code",
   "execution_count": 4,
   "id": "fcf36530-aa8d-4ca5-baef-3afebd763c49",
   "metadata": {},
   "outputs": [],
   "source": [
    "downpcd = pcd.voxel_down_sample(voxel_size=0.005)\n",
    "o3d.visualization.draw_geometries([downpcd])\n",
    "points = np.asarray(downpcd.points)"
   ]
  },
  {
   "cell_type": "markdown",
   "id": "a33bb1a0-676b-428e-905e-53bab3954a32",
   "metadata": {},
   "source": [
    "## RANSAC Plane"
   ]
  },
  {
   "cell_type": "code",
   "execution_count": 20,
   "id": "d134d9dd-6971-4dad-a102-a263e2ac63af",
   "metadata": {},
   "outputs": [],
   "source": [
    "def fit_plane(points):\n",
    "    centroid = np.mean(points, axis=0)\n",
    "    _, _, vh = np.linalg.svd(points - centroid)\n",
    "    normal = vh[2, :]\n",
    "    d = -np.dot(normal, centroid)\n",
    "    return np.append(normal, d)\n",
    "\n",
    "def ransac_plane(points, threshold, iterations):\n",
    "    best_inliers = []\n",
    "    best_params = None\n",
    "\n",
    "    for _ in range(iterations):\n",
    "        sample = points[np.random.choice(points.shape[0], 3, replace=False)]\n",
    "        params = fit_plane(sample)\n",
    "        inliers = []\n",
    "\n",
    "        for point in points:\n",
    "            distance = np.abs(np.dot(params[:3], point) + params[3]) / np.linalg.norm(params[:3])\n",
    "            if distance < threshold:\n",
    "                inliers.append(point)\n",
    "\n",
    "        if len(inliers) > len(best_inliers):\n",
    "            best_inliers = inliers\n",
    "            best_params = params\n",
    "\n",
    "    return best_params, np.array(best_inliers)"
   ]
  },
  {
   "cell_type": "markdown",
   "id": "9a02e79d-8dd6-44a3-93b8-923a165f6271",
   "metadata": {},
   "source": [
    "## RANSAC Sphere"
   ]
  },
  {
   "cell_type": "code",
   "execution_count": 7,
   "id": "0f06cb13-36a3-4e5a-8811-2cc44ca029eb",
   "metadata": {},
   "outputs": [],
   "source": [
    "def fit_sphere(points):\n",
    "    def residuals(params, points):\n",
    "        x0, y0, z0, r = params\n",
    "        return np.sqrt((points[:, 0] - x0)**2 + (points[:, 1] - y0)**2 + (points[:, 2] - z0)**2) - r\n",
    "\n",
    "    # Initial guess for the sphere parameters\n",
    "    x0, y0, z0 = np.mean(points, axis=0)\n",
    "    r0 = np.mean(np.linalg.norm(points - [x0, y0, z0], axis=1))\n",
    "    initial_guess = [x0, y0, z0, r0]\n",
    "\n",
    "    result = least_squares(residuals, initial_guess, args=(points,))\n",
    "    return result.x\n",
    "\n",
    "def ransac_sphere(points, threshold, iterations):\n",
    "    best_inliers = []\n",
    "    best_params = None\n",
    "\n",
    "    for _ in range(iterations):\n",
    "        sample = points[np.random.choice(points.shape[0], 4, replace=False)]\n",
    "        params = fit_sphere(sample)\n",
    "        inliers = []\n",
    "\n",
    "        for point in points:\n",
    "            distance = np.abs(np.sqrt((point[0] - params[0])**2 + (point[1] - params[1])**2 + (point[2] - params[2])**2) - params[3])\n",
    "            if distance < threshold:\n",
    "                inliers.append(point)\n",
    "\n",
    "        if len(inliers) > len(best_inliers):\n",
    "            best_inliers = inliers\n",
    "            best_params = params\n",
    "\n",
    "    return best_params, np.array(best_inliers)"
   ]
  },
  {
   "cell_type": "markdown",
   "id": "38027735-e30c-40ec-af1e-a2be741dfd1f",
   "metadata": {},
   "source": [
    "## RANSAC Cone"
   ]
  },
  {
   "cell_type": "code",
   "execution_count": 13,
   "id": "eff3d5b5-3629-478c-ba09-d86a5dd746ff",
   "metadata": {},
   "outputs": [],
   "source": [
    "def fit_cone(points):\n",
    "    def residuals(params, points):\n",
    "        x0, y0, z0, a, b, c, theta = params\n",
    "        direction_vector = np.array([a, b, c])\n",
    "        direction_vector /= np.linalg.norm(direction_vector)  # Normalize the direction vector\n",
    "        \n",
    "        # Vector from the cone vertex to the point\n",
    "        vector_to_point = points - np.array([x0, y0, z0])\n",
    "        \n",
    "        # Projection of the vector onto the cone's axis\n",
    "        projection_length = np.dot(vector_to_point, direction_vector)\n",
    "        projection = projection_length[:, np.newaxis] * direction_vector\n",
    "        \n",
    "        # Perpendicular distance from the point to the axis of the cone\n",
    "        perpendicular_distance = np.linalg.norm(vector_to_point - projection, axis=1)\n",
    "        \n",
    "        # Expected distance based on the cone's angle\n",
    "        expected_distance = np.tan(theta) * projection_length\n",
    "        \n",
    "        # Residuals are the difference between the actual and expected distances\n",
    "        return perpendicular_distance - expected_distance\n",
    "\n",
    "    # Initial guess for the cone parameters\n",
    "    x0, y0, z0 = np.mean(points, axis=0)\n",
    "    direction = np.array([0, 0, 1])  # Initial guess: cone points upwards\n",
    "    theta0 = np.pi / 6  # Initial guess: 30 degrees opening angle\n",
    "    initial_guess = [x0, y0, z0, direction[0], direction[1], direction[2], theta0]\n",
    "\n",
    "    result = least_squares(residuals, initial_guess, args=(points,))\n",
    "    return result.x\n",
    "\n",
    "def ransac_cone(points, threshold, iterations):\n",
    "    best_inliers = []\n",
    "    best_params = None\n",
    "\n",
    "    for _ in range(iterations):\n",
    "        sample = points[np.random.choice(points.shape[0], 5, replace=False)]\n",
    "        params = fit_cone(sample)\n",
    "        inliers = []\n",
    "\n",
    "        for point in points:\n",
    "            x0, y0, z0, a, b, c, theta = params\n",
    "            direction_vector = np.array([a, b, c])\n",
    "            direction_vector /= np.linalg.norm(direction_vector)\n",
    "            \n",
    "            vector_to_point = point - np.array([x0, y0, z0])\n",
    "            projection_length = np.dot(vector_to_point, direction_vector)\n",
    "            projection = projection_length * direction_vector\n",
    "            perpendicular_distance = np.linalg.norm(vector_to_point - projection)\n",
    "            expected_distance = np.tan(theta) * projection_length\n",
    "            \n",
    "            distance = np.abs(perpendicular_distance - expected_distance)\n",
    "            if distance < threshold:\n",
    "                inliers.append(point)\n",
    "\n",
    "        if len(inliers) > len(best_inliers):\n",
    "            best_inliers = inliers\n",
    "            best_params = params\n",
    "\n",
    "    return best_params, np.array(best_inliers)"
   ]
  },
  {
   "cell_type": "markdown",
   "id": "43d7b14a-fe1c-469f-8924-6425694a3078",
   "metadata": {},
   "source": [
    "## RANSAC Cylinder"
   ]
  },
  {
   "cell_type": "code",
   "execution_count": 5,
   "id": "27c6228b-f30e-4c25-b4e5-3201f3e346c0",
   "metadata": {},
   "outputs": [],
   "source": [
    "def fit_cylinder(points):\n",
    "    def residuals(params, points):\n",
    "        x0, y0, z0, a, b, c, r = params\n",
    "        direction_vector = np.array([a, b, c])\n",
    "        direction_vector /= np.linalg.norm(direction_vector)  # Normalize the direction vector\n",
    "        \n",
    "        # Vector from the cylinder's axis point to the point\n",
    "        vector_to_point = points - np.array([x0, y0, z0])\n",
    "        \n",
    "        # Projection of the vector onto the cylinder's axis\n",
    "        projection_length = np.dot(vector_to_point, direction_vector)\n",
    "        projection = projection_length[:, np.newaxis] * direction_vector\n",
    "        \n",
    "        # Perpendicular distance from the point to the axis of the cylinder\n",
    "        perpendicular_distance = np.linalg.norm(vector_to_point - projection, axis=1)\n",
    "        \n",
    "        # Residuals are the difference between the actual perpendicular distance and the cylinder's radius\n",
    "        return perpendicular_distance - r\n",
    "\n",
    "    # Initial guess for the cylinder parameters\n",
    "    x0, y0, z0 = np.mean(points, axis=0)\n",
    "    direction = np.array([0, 0, 1])  # Initial guess: cylinder axis pointing upwards\n",
    "    r0 = np.mean(np.linalg.norm(points - np.array([x0, y0, z0]), axis=1))  # Approximate initial radius\n",
    "    initial_guess = [x0, y0, z0, direction[0], direction[1], direction[2], r0]\n",
    "\n",
    "    result = least_squares(residuals, initial_guess, args=(points,))\n",
    "    return result.x\n",
    "\n",
    "def ransac_cylinder(points, threshold, iterations):\n",
    "    best_inliers = []\n",
    "    best_params = None\n",
    "\n",
    "    for _ in range(iterations):\n",
    "        sample = points[np.random.choice(points.shape[0], 5, replace=False)]\n",
    "        params = fit_cylinder(sample)\n",
    "        inliers = []\n",
    "\n",
    "        for point in points:\n",
    "            x0, y0, z0, a, b, c, r = params\n",
    "            direction_vector = np.array([a, b, c])\n",
    "            direction_vector /= np.linalg.norm(direction_vector)\n",
    "            \n",
    "            vector_to_point = point - np.array([x0, y0, z0])\n",
    "            projection_length = np.dot(vector_to_point, direction_vector)\n",
    "            projection = projection_length * direction_vector\n",
    "            perpendicular_distance = np.linalg.norm(vector_to_point - projection)\n",
    "            \n",
    "            distance = np.abs(perpendicular_distance - r)\n",
    "            if distance < threshold:\n",
    "                inliers.append(point)\n",
    "\n",
    "        if len(inliers) > len(best_inliers):\n",
    "            best_inliers = inliers\n",
    "            best_params = params\n",
    "\n",
    "    return best_params, np.array(best_inliers)"
   ]
  },
  {
   "cell_type": "markdown",
   "id": "65828a4f-9810-4231-8e79-839b4f8358b8",
   "metadata": {},
   "source": [
    "## Run RANSAC"
   ]
  },
  {
   "cell_type": "code",
   "execution_count": 21,
   "id": "883d2d38-0f05-4acc-a0d8-93e6de33fa1f",
   "metadata": {},
   "outputs": [],
   "source": [
    "plane_params, plane_inliers = ransac_plane(points, threshold=0.005, iterations=500)\n",
    "sphere_params, sphere_inliers = ransac_sphere(points, threshold=0.005, iterations=500)\n",
    "cone_params, cone_inliers = ransac_cone(points, threshold=0.005, iterations=500)"
   ]
  },
  {
   "cell_type": "markdown",
   "id": "9f4a1235-fefe-4ff4-92c5-9211be822f20",
   "metadata": {},
   "source": [
    "## Visualize results"
   ]
  },
  {
   "cell_type": "code",
   "execution_count": 22,
   "id": "5bd0a23f-6539-4623-8945-a0eece3b07ae",
   "metadata": {},
   "outputs": [],
   "source": [
    "plane_cloud = o3d.geometry.PointCloud()\n",
    "plane_cloud.points = o3d.utility.Vector3dVector(plane_inliers)\n",
    "plane_cloud.paint_uniform_color([0,1,0])\n",
    "\n",
    "sphere_cloud = o3d.geometry.PointCloud()\n",
    "sphere_cloud.points = o3d.utility.Vector3dVector(sphere_inliers)\n",
    "sphere_cloud.paint_uniform_color([0,0,1])\n",
    "\n",
    "cone_cloud = o3d.geometry.PointCloud()\n",
    "cone_cloud.points = o3d.utility.Vector3dVector(cone_inliers)\n",
    "cone_cloud.paint_uniform_color([1,0,0])\n",
    "\n",
    "downpcd.paint_uniform_color([0,0,0])\n",
    "\n",
    "o3d.visualization.draw_geometries([downpcd, plane_cloud, sphere_cloud, cone_cloud])"
   ]
  },
  {
   "cell_type": "code",
   "execution_count": 29,
   "id": "56fbfe89-2272-4852-ba27-2e9d29f982ed",
   "metadata": {},
   "outputs": [
    {
     "data": {
      "text/plain": [
       "PointCloud with 829 points."
      ]
     },
     "execution_count": 29,
     "metadata": {},
     "output_type": "execute_result"
    }
   ],
   "source": [
    "cylinder_cloud = o3d.geometry.PointCloud()\n",
    "cylinder_cloud.points = o3d.utility.Vector3dVector(cylinder_inliers)\n",
    "cylinder_cloud.paint_uniform_color([0,1,0])"
   ]
  },
  {
   "cell_type": "code",
   "execution_count": 30,
   "id": "a56c9c10-acfe-4046-a3e5-8ed0dea3c7f9",
   "metadata": {},
   "outputs": [],
   "source": [
    "o3d.visualization.draw_geometries([downpcd, cylinder_cloud])"
   ]
  }
 ],
 "metadata": {
  "kernelspec": {
   "display_name": "Python 3 (ipykernel)",
   "language": "python",
   "name": "python3"
  },
  "language_info": {
   "codemirror_mode": {
    "name": "ipython",
    "version": 3
   },
   "file_extension": ".py",
   "mimetype": "text/x-python",
   "name": "python",
   "nbconvert_exporter": "python",
   "pygments_lexer": "ipython3",
   "version": "3.10.12"
  }
 },
 "nbformat": 4,
 "nbformat_minor": 5
}
