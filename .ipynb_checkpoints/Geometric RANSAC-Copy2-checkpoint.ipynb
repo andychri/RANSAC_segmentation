{
 "cells": [
  {
   "cell_type": "markdown",
   "id": "16a76d1a-a058-4303-8a06-f3148f6144a9",
   "metadata": {},
   "source": [
    "## Imports"
   ]
  },
  {
   "cell_type": "code",
   "execution_count": 18,
   "id": "11aca9c3-3055-4784-9048-36e5ba27a626",
   "metadata": {},
   "outputs": [],
   "source": [
    "import numpy as np\n",
    "import open3d as o3d\n",
    "from scipy.optimize import least_squares\n",
    "from sklearn.cluster import DBSCAN"
   ]
  },
  {
   "cell_type": "code",
   "execution_count": 2,
   "id": "7064e01f-12c2-49a3-ba7a-9202642da48d",
   "metadata": {},
   "outputs": [],
   "source": [
    "import import_ipynb\n",
    "import common_functions"
   ]
  },
  {
   "cell_type": "markdown",
   "id": "59879b17-65c9-46a1-b2c2-07cf4d2ace25",
   "metadata": {},
   "source": [
    "## Load and preprocess the cloud"
   ]
  },
  {
   "cell_type": "code",
   "execution_count": 3,
   "id": "8e0fcd15-3e32-42cf-b234-f32d65848448",
   "metadata": {},
   "outputs": [],
   "source": [
    "def create_hollow_cloud(file_path, alpha=0.006, visualize=True):\n",
    "    # Read the point cloud from the file\n",
    "    point_cloud = o3d.io.read_point_cloud(file_path)\n",
    "    \n",
    "    # Create the concave hull (alpha shape) from the point cloud\n",
    "    mesh = o3d.geometry.TriangleMesh.create_from_point_cloud_alpha_shape(point_cloud, alpha)\n",
    "    \n",
    "    # Extract vertices (points) of the hull as the outer surface points\n",
    "    surface_points = np.asarray(mesh.vertices)\n",
    "    \n",
    "    # Create a new point cloud for visualization of the hull vertices\n",
    "    surface_cloud = o3d.geometry.PointCloud()\n",
    "    surface_cloud.points = o3d.utility.Vector3dVector(surface_points)\n",
    "    \n",
    "    # Visualize the concave hull surface points if requested\n",
    "    if visualize:\n",
    "        o3d.visualization.draw_geometries([surface_cloud])\n",
    "    \n",
    "    # Return the surface points as a NumPy array\n",
    "    return np.asarray(surface_cloud.points), surface_cloud\n"
   ]
  },
  {
   "cell_type": "markdown",
   "id": "c251784b-ed20-43eb-8bd3-a8082891bb37",
   "metadata": {},
   "source": [
    "## DBSCAN"
   ]
  },
  {
   "cell_type": "code",
   "execution_count": 4,
   "id": "c0a230aa-e798-4120-a6cd-d796794adbe1",
   "metadata": {},
   "outputs": [],
   "source": [
    "# Apply DBSCAN to ensure inliers are contiguous\n",
    "def apply_connectivity_check(inliers, eps=0.5, min_samples=5):\n",
    "    \"\"\"\n",
    "    Apply DBSCAN to ensure the inliers form a connected region.\n",
    "    \n",
    "    Parameters:\n",
    "        inliers (ndarray): Nx3 array of inlier point coordinates.\n",
    "        eps (float): Maximum distance between points for them to be considered in the same neighborhood.\n",
    "        min_samples (int): Minimum number of points to form a cluster.\n",
    "    \n",
    "    Returns:\n",
    "        largest_cluster (ndarray): The largest contiguous cluster of points.\n",
    "    \"\"\"\n",
    "    if len(inliers) == 0:\n",
    "        return np.array([])  # Return empty if no inliers\n",
    "\n",
    "    db = DBSCAN(eps=eps, min_samples=min_samples).fit(inliers)\n",
    "    labels = db.labels_\n",
    "\n",
    "    # Find the largest cluster (most common label excluding noise)\n",
    "    unique_labels, counts = np.unique(labels[labels >= 0], return_counts=True)\n",
    "    if len(unique_labels) == 0:\n",
    "        return np.array([])  # No valid clusters found\n",
    "    \n",
    "    largest_cluster_label = unique_labels[np.argmax(counts)]\n",
    "    largest_cluster = inliers[labels == largest_cluster_label]\n",
    "\n",
    "    return largest_cluster"
   ]
  },
  {
   "cell_type": "markdown",
   "id": "110e4f47-42a2-4dd8-aa49-e811bfb61e03",
   "metadata": {},
   "source": [
    "## RANSAC"
   ]
  },
  {
   "cell_type": "markdown",
   "id": "e525a14d-8888-469f-9b7f-5946be186973",
   "metadata": {},
   "source": [
    "### Plane"
   ]
  },
  {
   "cell_type": "code",
   "execution_count": 5,
   "id": "48b52ee9-6888-438a-bb3a-dca9e39bc718",
   "metadata": {},
   "outputs": [],
   "source": [
    "def fit_plane(points):\n",
    "    \"\"\"\n",
    "    Fit a plane to the given set of points using least squares.\n",
    "    \n",
    "    Parameters:\n",
    "        points (ndarray): Nx3 array of points.\n",
    "    \n",
    "    Returns:\n",
    "        plane_params (tuple): A tuple (a, b, c, d) for the plane equation ax + by + cz + d = 0.\n",
    "    \"\"\"\n",
    "    centroid = np.mean(points, axis=0)\n",
    "    shifted_points = points - centroid\n",
    "    _, _, vh = np.linalg.svd(shifted_points)\n",
    "    normal = vh[-1, :]\n",
    "    d = -np.dot(normal, centroid)\n",
    "    return (*normal, d)\n",
    "\n",
    "# Function to calculate distance from points to plane\n",
    "def distance_to_plane(points, plane_params):\n",
    "    a, b, c, d = plane_params\n",
    "    plane_normal = np.array([a, b, c])\n",
    "    distances = np.abs(np.dot(points, plane_normal) + d) / np.linalg.norm(plane_normal)\n",
    "    return distances\n",
    "\n",
    "# RANSAC plane fitting with DBSCAN connectivity check\n",
    "def ransac_plane(points, threshold, iterations, eps=0.01, min_samples=5):\n",
    "    best_inliers = []\n",
    "    best_params = None\n",
    "    best_score = 0\n",
    "    best_iter = 0\n",
    "\n",
    "    for i in range(iterations):\n",
    "        # Randomly select 3 points to define a candidate plane\n",
    "        sample_points = points[np.random.choice(points.shape[0], 3, replace=False)]\n",
    "        plane_params = fit_plane(sample_points)\n",
    "\n",
    "        # Calculate distances and identify inliers within the threshold\n",
    "        distances = distance_to_plane(points, plane_params)\n",
    "        inliers = points[distances < threshold]\n",
    "\n",
    "        # Ensure inliers form a connected cluster\n",
    "        connected_inliers = apply_connectivity_check(inliers, eps=eps, min_samples=min_samples)\n",
    "\n",
    "        # Update the best parameters if this model has more inliers\n",
    "        if len(connected_inliers) > best_score:\n",
    "            best_score = len(connected_inliers)\n",
    "            best_inliers = connected_inliers\n",
    "            best_params = plane_params\n",
    "            best_iter = i\n",
    "\n",
    "    return best_params, best_inliers"
   ]
  },
  {
   "cell_type": "markdown",
   "id": "db726f58-98bd-4ba9-a304-a8591999985d",
   "metadata": {},
   "source": [
    "### Cylinder"
   ]
  },
  {
   "cell_type": "code",
   "execution_count": 6,
   "id": "3688a785-74e6-4995-a98b-2fdbbba71edb",
   "metadata": {},
   "outputs": [],
   "source": [
    "import numpy as np\n",
    "from scipy.optimize import least_squares\n",
    "from sklearn.cluster import DBSCAN\n",
    "\n",
    "# Supporting functions: Fit cylinder, distance to cylinder\n",
    "def fit_cylinder(points, min_radius=None, max_radius=None):\n",
    "    x0, y0, z0 = np.mean(points, axis=0)\n",
    "    initial_axis = np.array([0, 0, 1])\n",
    "    initial_radius = np.mean(np.linalg.norm(points - np.array([x0, y0, z0]), axis=1))\n",
    "    initial_guess = [x0, y0, z0, *initial_axis, initial_radius]\n",
    "    result = least_squares(residuals, initial_guess, args=(points,))\n",
    "    return result.x if result.success else None\n",
    "\n",
    "def residuals(params, points):\n",
    "    x0, y0, z0, a, b, c, r = params\n",
    "    axis_direction = np.array([a, b, c])\n",
    "    axis_direction /= np.linalg.norm(axis_direction)\n",
    "    vector_to_points = points - np.array([x0, y0, z0])\n",
    "    projection_length = np.dot(vector_to_points, axis_direction)\n",
    "    projection = projection_length[:, np.newaxis] * axis_direction\n",
    "    perpendicular_distance = np.linalg.norm(vector_to_points - projection, axis=1)\n",
    "    return perpendicular_distance - r\n",
    "\n",
    "def distance_to_cylinder(points, cylinder_point, axis_direction, radius):\n",
    "    \"\"\"\n",
    "    Calculate the distance of each point to a cylinder's surface defined by a point on the axis,\n",
    "    the axis direction, and the radius, using the direct projection method as specified in the reference formula.\n",
    "    \"\"\"\n",
    "    # Calculate the vector from the cylinder reference point to each point\n",
    "    vector_to_points = points - cylinder_point\n",
    "\n",
    "    # Calculate the projection of each point onto the axis\n",
    "    projection = np.dot(vector_to_points, axis_direction)[:, np.newaxis] * axis_direction\n",
    "\n",
    "    # Calculate the perpendicular (radial) distance to the axis\n",
    "    radial_distance = np.linalg.norm(vector_to_points - projection, axis=1)\n",
    "\n",
    "    # Calculate the distance to the cylinder surface by subtracting the radius\n",
    "    distance_to_surface = np.abs(radial_distance - radius)\n",
    "    \n",
    "    return distance_to_surface\n",
    "\n",
    "# RANSAC function for fitting a cylinder, now with DBSCAN connectivity check\n",
    "def ransac_cylinder(points, threshold, iterations, eps=0.01, min_samples=5, min_radius=None, max_radius=None):\n",
    "    \"\"\"\n",
    "    RANSAC-based cylinder fitting with DBSCAN-based connectivity check.\n",
    "\n",
    "    Parameters:\n",
    "        points (ndarray): Nx3 array of point coordinates.\n",
    "        threshold (float): Distance threshold to consider a point as an inlier.\n",
    "        iterations (int): Number of RANSAC iterations.\n",
    "        eps (float): Maximum distance between points for connectivity in DBSCAN.\n",
    "        min_samples (int): Minimum number of points for DBSCAN clusters.\n",
    "        min_radius (float): Minimum allowed radius for the cylinder (optional).\n",
    "        max_radius (float): Maximum allowed radius for the cylinder (optional).\n",
    "\n",
    "    Returns:\n",
    "        best_params (list): Parameters of the best-fit cylinder (center, axis, radius).\n",
    "        best_inliers (ndarray): Largest connected inlier points that fit the cylinder model.\n",
    "    \"\"\"\n",
    "    best_inliers = []\n",
    "    best_params = None\n",
    "    best_score = 0\n",
    "    best_iter = 0\n",
    "\n",
    "    for i in range(iterations):\n",
    "        # Randomly sample 5 points to define a cylinder\n",
    "        sample = points[np.random.choice(points.shape[0], 5, replace=False)]\n",
    "        params = fit_cylinder(sample)\n",
    "        if params is None:\n",
    "            continue\n",
    "\n",
    "        x0, y0, z0, a, b, c, r = params\n",
    "        if (min_radius is not None and r < min_radius) or (max_radius is not None and r > max_radius):\n",
    "            continue\n",
    "\n",
    "        cylinder_center = np.array([x0, y0, z0])\n",
    "        cylinder_axis = np.array([a, b, c])\n",
    "        distances = distance_to_cylinder(points, cylinder_center, cylinder_axis, r)\n",
    "        inliers = points[distances < threshold]\n",
    "\n",
    "        if len(inliers) == 0:\n",
    "            continue  # Skip if no inliers found\n",
    "\n",
    "        # Apply DBSCAN to check for connectivity and get the largest cluster\n",
    "        connected_inliers = apply_connectivity_check(inliers, eps=eps, min_samples=min_samples)\n",
    "\n",
    "        params = cylinder_axis, cylinder_center, r\n",
    "\n",
    "        if len(connected_inliers) > best_score:\n",
    "            best_score = len(connected_inliers)\n",
    "            best_inliers = connected_inliers\n",
    "            best_params = params\n",
    "            best_iter = i\n",
    "\n",
    "    return best_params, best_inliers"
   ]
  },
  {
   "cell_type": "markdown",
   "id": "b26e604e-d88f-4898-9327-74a0625df17b",
   "metadata": {},
   "source": [
    "## Main"
   ]
  },
  {
   "cell_type": "code",
   "execution_count": 22,
   "id": "66de1b48-5172-48a1-8409-3540468d69bd",
   "metadata": {},
   "outputs": [],
   "source": [
    "def ransac_main(points, plane_threshold, cylinder_threshold, iterations, num_planes, num_cylinders, \n",
    "                min_radius, max_radius, eps, min_samples):\n",
    "    \"\"\"\n",
    "    Main function to run RANSAC for both cylinder and plane fitting on the point cloud.\n",
    "    \n",
    "    Parameters:\n",
    "        points (ndarray): Nx3 array of point coordinates.\n",
    "        plane_threshold (float): Distance threshold for plane inliers.\n",
    "        cylinder_threshold (float): Distance threshold for cylinder inliers.\n",
    "        iterations (int): Number of RANSAC iterations for each model.\n",
    "        num_planes (int): Number of planes to find.\n",
    "        num_cylinders (int): Number of cylinders to find.\n",
    "        min_radius (float): Minimum allowed radius for the cylinder.\n",
    "        max_radius (float): Maximum allowed radius for the cylinder.\n",
    "        eps (float): DBSCAN epsilon for connectivity check.\n",
    "        min_samples (int): DBSCAN minimum samples for cluster formation.\n",
    "\n",
    "    Returns:\n",
    "        segmented_objects (list): A list of dictionaries containing model parameters, statistics, and inliers for each detected object.\n",
    "    \"\"\"\n",
    "    segmented_objects = []\n",
    "    remaining_points = points.copy()\n",
    "    \n",
    "    planes_found = 0\n",
    "    cylinders_found = 0\n",
    "    \n",
    "    while planes_found < num_planes or cylinders_found < num_cylinders:\n",
    "        best_inliers = []\n",
    "        best_params = None\n",
    "        best_model = None\n",
    "        best_score = 0\n",
    "\n",
    "        # Try to find a cylinder\n",
    "        if cylinders_found < num_cylinders:\n",
    "            cylinder_params, cylinder_inliers = ransac_cylinder(\n",
    "                remaining_points, threshold=cylinder_threshold, iterations=iterations, min_radius=min_radius, max_radius=max_radius, \n",
    "                eps=eps, min_samples=min_samples\n",
    "            )\n",
    "            if cylinder_params is not None and len(cylinder_inliers) > best_score:\n",
    "                best_params = cylinder_params\n",
    "                best_inliers = cylinder_inliers\n",
    "                best_model = 'cylinder'\n",
    "                best_score = len(cylinder_inliers)\n",
    "\n",
    "        # Try to find a plane\n",
    "        if planes_found < num_planes:\n",
    "            plane_params, plane_inliers = ransac_plane(\n",
    "                remaining_points, threshold=plane_threshold, iterations=iterations, eps=eps, min_samples=min_samples\n",
    "            )\n",
    "            if plane_params is not None and len(plane_inliers) > best_score:\n",
    "                best_params = plane_params\n",
    "                best_inliers = plane_inliers\n",
    "                best_model = 'plane'\n",
    "                best_score = len(plane_inliers)\n",
    "\n",
    "        # If a model was found, store it and remove inliers\n",
    "        if best_model:\n",
    "            print(f\"Found {best_model.capitalize()} with {best_score} inliers\")\n",
    "            \n",
    "            # Initialize segmented object details\n",
    "            segmented_object = {\n",
    "                'model': best_model,\n",
    "                'params': best_params,\n",
    "                'inliers': best_inliers\n",
    "            }\n",
    "\n",
    "            # Get additional statistics based on model type\n",
    "            if best_model == 'cylinder':\n",
    "                stats = cylinder_statistics(best_inliers, best_params)\n",
    "                segmented_object.update(stats)\n",
    "                cylinders_found += 1\n",
    "            elif best_model == 'plane':\n",
    "                stats = plane_statistics(best_inliers, best_params)\n",
    "                segmented_object.update(stats)\n",
    "                planes_found += 1\n",
    "\n",
    "            segmented_objects.append(segmented_object)\n",
    "\n",
    "            # Remove inliers from remaining points\n",
    "            remaining_points = np.array([pt for pt in remaining_points if pt not in best_inliers])\n",
    "\n",
    "        # Exit if no more shapes are needed or no points left\n",
    "        if len(remaining_points) == 0 or (planes_found >= num_planes and cylinders_found >= num_cylinders):\n",
    "            break\n",
    "\n",
    "    return segmented_objects"
   ]
  },
  {
   "cell_type": "markdown",
   "id": "283b169e-d3c9-480a-b386-2e6c190cb06d",
   "metadata": {},
   "source": [
    "# Testing Ground\n",
    "## The Kernel wil stop here first"
   ]
  },
  {
   "cell_type": "markdown",
   "id": "10d34a0d-2c1d-488a-bda3-c057899ff0b9",
   "metadata": {},
   "source": [
    "## Load\n",
    "The available point clouds are scene1, scene2, and scene3. Feel free to upload any other .pcd files. Adjust the alpha value to adjust the tightness of the hull"
   ]
  },
  {
   "cell_type": "code",
   "execution_count": 10,
   "id": "69ffe27c-7c18-46e0-81a2-8f90715aedb5",
   "metadata": {},
   "outputs": [],
   "source": [
    "points, surface_cloud = create_hollow_cloud(\"scene1.pcd\",  alpha=0.006, visualize=True)"
   ]
  },
  {
   "cell_type": "markdown",
   "id": "ae74d994-8a27-499c-8bc2-0a2d4b8dd728",
   "metadata": {},
   "source": [
    "## Fitting\n",
    "Decide the parameters of the point cloud. The thresholds, number of cylinder and planes, threshold and radius."
   ]
  },
  {
   "cell_type": "code",
   "execution_count": 20,
   "id": "12607963-cede-4a9e-8941-e8d86561d258",
   "metadata": {},
   "outputs": [],
   "source": [
    "import import_ipynb\n",
    "import common_functions"
   ]
  },
  {
   "cell_type": "code",
   "execution_count": 24,
   "id": "4e7a1fbc-886b-4f34-8524-e9b938bf8e04",
   "metadata": {},
   "outputs": [],
   "source": [
    "%run common_functions.ipynb"
   ]
  },
  {
   "cell_type": "code",
   "execution_count": 25,
   "id": "655f3253-e14c-4f8c-ac30-beb252d479eb",
   "metadata": {},
   "outputs": [
    {
     "name": "stdout",
     "output_type": "stream",
     "text": [
      "Found Cylinder with 1320 inliers\n"
     ]
    }
   ],
   "source": [
    "segments = ransac_main(points, 0.004, 0.004, 1000, 0, 1, min_radius=0, max_radius=0.03, eps=0.5, min_samples=5)"
   ]
  },
  {
   "cell_type": "markdown",
   "id": "1e9d089c-3ab6-4cd8-9857-f456c526e72b",
   "metadata": {},
   "source": [
    "## Display results\n",
    "- With the background cloud\n",
    "- Or without"
   ]
  },
  {
   "cell_type": "code",
   "execution_count": 17,
   "id": "2346ce21-61cb-4aab-874e-6ec707347b88",
   "metadata": {},
   "outputs": [],
   "source": [
    "visualize_segments_by_model_type(segments, surface_cloud)"
   ]
  },
  {
   "cell_type": "code",
   "execution_count": 18,
   "id": "4384b5d2-7a4e-460e-ab81-9dff885c2336",
   "metadata": {},
   "outputs": [
    {
     "name": "stdout",
     "output_type": "stream",
     "text": [
      "Segment 0: Model = cylinder, Color = Red\n"
     ]
    }
   ],
   "source": [
    "visualize_segments_in_order(segments)"
   ]
  },
  {
   "cell_type": "markdown",
   "id": "a10264b1-5fbe-4054-a6a1-d0c69413a9cb",
   "metadata": {},
   "source": [
    "## Display mesh\n",
    "Display meshes based on the segmented results"
   ]
  },
  {
   "cell_type": "code",
   "execution_count": 19,
   "id": "d88b3252-174c-4645-8539-c6dc2005c7d6",
   "metadata": {},
   "outputs": [
    {
     "data": {
      "text/plain": [
       "[PointCloud with 11060 points.,\n",
       " TriangleMesh with 102 points and 200 triangles.]"
      ]
     },
     "execution_count": 19,
     "metadata": {},
     "output_type": "execute_result"
    }
   ],
   "source": [
    "create_meshes_from_segments(segments, surface_cloud)"
   ]
  },
  {
   "cell_type": "markdown",
   "id": "e8a44dab-2d0f-4372-a990-3f4cb2bd9488",
   "metadata": {},
   "source": [
    "## Save result\n",
    "Save the result from RANSAC primtive fitting into .xlsx files."
   ]
  },
  {
   "cell_type": "code",
   "execution_count": 21,
   "id": "4489d25c-8189-4f4c-a505-492b6147e0d6",
   "metadata": {},
   "outputs": [],
   "source": [
    "#save_segments_to_excel(segments, 'BasicRansac2.xlsx')"
   ]
  }
 ],
 "metadata": {
  "kernelspec": {
   "display_name": "Python 3 (ipykernel)",
   "language": "python",
   "name": "python3"
  },
  "language_info": {
   "codemirror_mode": {
    "name": "ipython",
    "version": 3
   },
   "file_extension": ".py",
   "mimetype": "text/x-python",
   "name": "python",
   "nbconvert_exporter": "python",
   "pygments_lexer": "ipython3",
   "version": "3.10.12"
  }
 },
 "nbformat": 4,
 "nbformat_minor": 5
}
