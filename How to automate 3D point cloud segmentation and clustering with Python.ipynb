{
 "cells": [
  {
   "cell_type": "code",
   "execution_count": 1,
   "id": "586ca3f5-6318-444b-8547-67aa5996b60c",
   "metadata": {},
   "outputs": [
    {
     "name": "stdout",
     "output_type": "stream",
     "text": [
      "Jupyter environment detected. Enabling Open3D WebVisualizer.\n",
      "[Open3D INFO] WebRTC GUI backend enabled.\n",
      "[Open3D INFO] WebRTCWindowSystem: HTTP handshake server disabled.\n"
     ]
    }
   ],
   "source": [
    "import numpy as np\n",
    "import matplotlib.pyplot as plt\n",
    "import open3d as o3d"
   ]
  },
  {
   "cell_type": "code",
   "execution_count": 2,
   "id": "6a919a21-2fe4-4432-93ec-bce005bcb907",
   "metadata": {},
   "outputs": [],
   "source": [
    "#pcd = o3d.io.read_point_cloud(\"kitchen.ply\")\n",
    "pcd = o3d.io.read_point_cloud(\"filtered.pcd\")"
   ]
  },
  {
   "cell_type": "code",
   "execution_count": 3,
   "id": "4748a747-3fbd-4712-8fa0-716dd781d752",
   "metadata": {},
   "outputs": [
    {
     "data": {
      "text/plain": [
       "PointCloud with 172285 points."
      ]
     },
     "execution_count": 3,
     "metadata": {},
     "output_type": "execute_result"
    }
   ],
   "source": [
    "pcd.estimate_normals(search_param=o3d.geometry.KDTreeSearchParamHybrid(radius=0.1, max_nn=16), fast_normal_computation=True)\n",
    "pcd.paint_uniform_color([0.6, 0.6, 0.6])"
   ]
  },
  {
   "cell_type": "code",
   "execution_count": 4,
   "id": "c1ee79c0-2e7e-4309-abc8-0e7c79985bdb",
   "metadata": {},
   "outputs": [
    {
     "name": "stdout",
     "output_type": "stream",
     "text": [
      "Plane equation: 0.23x + 0.70y + 0.68z + -0.84 = 0\n"
     ]
    },
    {
     "data": {
      "text/plain": [
       "PointCloud with 94094 points."
      ]
     },
     "execution_count": 4,
     "metadata": {},
     "output_type": "execute_result"
    }
   ],
   "source": [
    "plane_model, inliers = pcd.segment_plane(distance_threshold=0.01,ransac_n=3,num_iterations=1000)\n",
    "[a, b, c, d] = plane_model\n",
    "print(f\"Plane equation: {a:.2f}x + {b:.2f}y + {c:.2f}z + {d:.2f} = 0\")\n",
    "inlier_cloud = pcd.select_by_index(inliers)\n",
    "outlier_cloud = pcd.select_by_index(inliers, invert=True)\n",
    "inlier_cloud.paint_uniform_color([1.0, 0, 0])\n",
    "outlier_cloud.paint_uniform_color([0.6, 0.6, 0.6])"
   ]
  },
  {
   "cell_type": "code",
   "execution_count": 9,
   "id": "f026fef2-410f-46d2-b348-e3cd1955ec0e",
   "metadata": {},
   "outputs": [],
   "source": [
    "o3d.visualization.draw_geometries([inlier_cloud, outlier_cloud])"
   ]
  },
  {
   "cell_type": "code",
   "execution_count": 5,
   "id": "b7a699c0-72bc-4740-b480-73eac271e5fe",
   "metadata": {},
   "outputs": [
    {
     "name": "stdout",
     "output_type": "stream",
     "text": [
      "point cloud has 1 clusters\n"
     ]
    }
   ],
   "source": [
    "labels = np.array(pcd.cluster_dbscan(eps=0.05, min_points=4))\n",
    "max_label = labels.max()\n",
    "print(f\"point cloud has {max_label + 1} clusters\")\n",
    "\n",
    "colors = plt.get_cmap(\"tab20\")(labels / (max_label if max_label > 0 else 1))\n",
    "colors[labels < 0] = 0\n",
    "pcd.colors = o3d.utility.Vector3dVector(colors[:, :3])"
   ]
  },
  {
   "cell_type": "code",
   "execution_count": 6,
   "id": "596f40b2-0fac-44f1-810e-d2bf707e1e19",
   "metadata": {},
   "outputs": [
    {
     "name": "stdout",
     "output_type": "stream",
     "text": [
      "pass 0 / 4 done.\n",
      "pass 1 / 4 done.\n",
      "pass 2 / 4 done.\n",
      "pass 3 / 4 done.\n"
     ]
    }
   ],
   "source": [
    "segment_models={}\n",
    "segments={}\n",
    "max_plane_idx=4\n",
    "rest=pcd\n",
    "for i in range(max_plane_idx):\n",
    "    colors = plt.get_cmap(\"tab20\")(i)\n",
    "    segment_models[i], inliers = rest.segment_plane(distance_threshold=0.01,ransac_n=3,num_iterations=1000)\n",
    "    segments[i]=rest.select_by_index(inliers)\n",
    "    segments[i].paint_uniform_color(list(colors[:3]))\n",
    "    rest = rest.select_by_index(inliers, invert=True)\n",
    "    print(\"pass\",i,\"/\",max_plane_idx,\"done.\")"
   ]
  },
  {
   "cell_type": "code",
   "execution_count": 7,
   "id": "03470876-29db-416d-81bf-360f546ef125",
   "metadata": {},
   "outputs": [],
   "source": [
    "o3d.visualization.draw_geometries([segments[i] for i in range(max_plane_idx)]+[rest])"
   ]
  },
  {
   "cell_type": "code",
   "execution_count": 16,
   "id": "a12fc10b-6e43-4c10-8cd2-7bbf502f5463",
   "metadata": {},
   "outputs": [
    {
     "name": "stderr",
     "output_type": "stream",
     "text": [
      "/tmp/ipykernel_23790/1834253068.py:12: DeprecationWarning: Conversion of an array with ndim > 0 to a scalar is deprecated, and will error in future. Ensure you extract a single element from your array before performing this operation. (Deprecated NumPy 1.25.)\n",
      "  best_candidate=int(np.unique(labels)[np.where(candidates==np.max(candidates))[0]])\n"
     ]
    },
    {
     "name": "stdout",
     "output_type": "stream",
     "text": [
      "the best candidate is:  0\n",
      "pass 1 / 20 done.\n",
      "the best candidate is:  0\n",
      "pass 2 / 20 done.\n",
      "the best candidate is:  0\n",
      "pass 3 / 20 done.\n",
      "the best candidate is:  0\n",
      "pass 4 / 20 done.\n",
      "the best candidate is:  0\n",
      "pass 5 / 20 done.\n",
      "the best candidate is:  0\n",
      "pass 6 / 20 done.\n",
      "the best candidate is:  0\n",
      "pass 7 / 20 done.\n",
      "the best candidate is:  0\n",
      "pass 8 / 20 done.\n",
      "the best candidate is:  0\n",
      "pass 9 / 20 done.\n",
      "the best candidate is:  0\n",
      "pass 10 / 20 done.\n",
      "the best candidate is:  -1\n",
      "pass 11 / 20 done.\n"
     ]
    },
    {
     "ename": "RuntimeError",
     "evalue": "\u001b[1;31m[Open3D Error] (std::tuple<Eigen::Matrix<double, 4, 1, 0, 4, 1>, std::vector<long unsigned int, std::allocator<long unsigned int> > > open3d::geometry::PointCloud::SegmentPlane(double, int, int, double) const) /root/Open3D/cpp/open3d/geometry/PointCloudSegmentation.cpp:175: There must be at least 'ransac_n' points.\n\u001b[0;m",
     "output_type": "error",
     "traceback": [
      "\u001b[0;31m---------------------------------------------------------------------------\u001b[0m",
      "\u001b[0;31mRuntimeError\u001b[0m                              Traceback (most recent call last)",
      "Cell \u001b[0;32mIn[16], line 8\u001b[0m\n\u001b[1;32m      6\u001b[0m \u001b[38;5;28;01mfor\u001b[39;00m i \u001b[38;5;129;01min\u001b[39;00m \u001b[38;5;28mrange\u001b[39m(max_plane_idx):\n\u001b[1;32m      7\u001b[0m     colors \u001b[38;5;241m=\u001b[39m plt\u001b[38;5;241m.\u001b[39mget_cmap(\u001b[38;5;124m\"\u001b[39m\u001b[38;5;124mtab20\u001b[39m\u001b[38;5;124m\"\u001b[39m)(i)\n\u001b[0;32m----> 8\u001b[0m     segment_models[i], inliers \u001b[38;5;241m=\u001b[39m \u001b[43mrest\u001b[49m\u001b[38;5;241;43m.\u001b[39;49m\u001b[43msegment_plane\u001b[49m\u001b[43m(\u001b[49m\u001b[43mdistance_threshold\u001b[49m\u001b[38;5;241;43m=\u001b[39;49m\u001b[38;5;241;43m0.01\u001b[39;49m\u001b[43m,\u001b[49m\u001b[43mransac_n\u001b[49m\u001b[38;5;241;43m=\u001b[39;49m\u001b[38;5;241;43m3\u001b[39;49m\u001b[43m,\u001b[49m\u001b[43mnum_iterations\u001b[49m\u001b[38;5;241;43m=\u001b[39;49m\u001b[38;5;241;43m1000\u001b[39;49m\u001b[43m)\u001b[49m\n\u001b[1;32m      9\u001b[0m     segments[i]\u001b[38;5;241m=\u001b[39mrest\u001b[38;5;241m.\u001b[39mselect_by_index(inliers)\n\u001b[1;32m     10\u001b[0m     labels \u001b[38;5;241m=\u001b[39m np\u001b[38;5;241m.\u001b[39marray(segments[i]\u001b[38;5;241m.\u001b[39mcluster_dbscan(eps\u001b[38;5;241m=\u001b[39md_threshold\u001b[38;5;241m*\u001b[39m\u001b[38;5;241m10\u001b[39m, min_points\u001b[38;5;241m=\u001b[39m\u001b[38;5;241m10\u001b[39m))\n",
      "\u001b[0;31mRuntimeError\u001b[0m: \u001b[1;31m[Open3D Error] (std::tuple<Eigen::Matrix<double, 4, 1, 0, 4, 1>, std::vector<long unsigned int, std::allocator<long unsigned int> > > open3d::geometry::PointCloud::SegmentPlane(double, int, int, double) const) /root/Open3D/cpp/open3d/geometry/PointCloudSegmentation.cpp:175: There must be at least 'ransac_n' points.\n\u001b[0;m"
     ]
    }
   ],
   "source": [
    "segment_models={}\n",
    "segments={}\n",
    "max_plane_idx=20\n",
    "rest=pcd\n",
    "d_threshold=0.01\n",
    "for i in range(max_plane_idx):\n",
    "    colors = plt.get_cmap(\"tab20\")(i)\n",
    "    segment_models[i], inliers = rest.segment_plane(distance_threshold=0.01,ransac_n=3,num_iterations=1000)\n",
    "    segments[i]=rest.select_by_index(inliers)\n",
    "    labels = np.array(segments[i].cluster_dbscan(eps=d_threshold*10, min_points=10))\n",
    "    candidates=[len(np.where(labels==j)[0]) for j in np.unique(labels)]\n",
    "    best_candidate=int(np.unique(labels)[np.where(candidates==np.max(candidates))[0]])\n",
    "    print(\"the best candidate is: \", best_candidate)\n",
    "    rest = rest.select_by_index(inliers, invert=True)+segments[i].select_by_index(list(np.where(labels!=best_candidate)[0]))\n",
    "    segments[i]=segments[i].select_by_index(list(np.where(labels==best_candidate)[0]))\n",
    "    segments[i].paint_uniform_color(list(colors[:3]))\n",
    "    print(\"pass\",i+1,\"/\",max_plane_idx,\"done.\")"
   ]
  },
  {
   "cell_type": "code",
   "execution_count": 26,
   "id": "36e96795-8c07-4a35-9049-909bf69d2b3b",
   "metadata": {},
   "outputs": [
    {
     "name": "stdout",
     "output_type": "stream",
     "text": [
      "point cloud has 98 clusters\n"
     ]
    }
   ],
   "source": [
    "labels = np.array(rest.cluster_dbscan(eps=0.05, min_points=5))\n",
    "max_label = labels.max()\n",
    "print(f\"point cloud has {max_label + 1} clusters\")\n",
    "\n",
    "colors = plt.get_cmap(\"tab10\")(labels / (max_label if max_label > 0 else 1))\n",
    "colors[labels < 0] = 0\n",
    "rest.colors = o3d.utility.Vector3dVector(colors[:, :3])"
   ]
  },
  {
   "cell_type": "code",
   "execution_count": 27,
   "id": "99443fc3-66ba-4ab5-ae42-f2c6b83e7255",
   "metadata": {},
   "outputs": [],
   "source": [
    "o3d.visualization.draw_geometries([segments[i] for i in range(max_plane_idx)]+[rest],zoom=0.3199,front=[0.30159062875123849, 0.94077325609922868, 0.15488309545553303],lookat=[-3.9559999108314514, -0.055000066757202148, -0.27599999308586121],up=[-0.044411423633999815, -0.138726419067636, 0.98753122516983349])"
   ]
  }
 ],
 "metadata": {
  "kernelspec": {
   "display_name": "Python 3 (ipykernel)",
   "language": "python",
   "name": "python3"
  },
  "language_info": {
   "codemirror_mode": {
    "name": "ipython",
    "version": 3
   },
   "file_extension": ".py",
   "mimetype": "text/x-python",
   "name": "python",
   "nbconvert_exporter": "python",
   "pygments_lexer": "ipython3",
   "version": "3.10.12"
  }
 },
 "nbformat": 4,
 "nbformat_minor": 5
}
