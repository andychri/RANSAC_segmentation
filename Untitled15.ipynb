{
 "cells": [
  {
   "cell_type": "code",
   "execution_count": 5,
   "id": "3552c8f8-c39f-4131-bad7-65c40c92b47c",
   "metadata": {},
   "outputs": [
    {
     "name": "stdout",
     "output_type": "stream",
     "text": [
      "Defaulting to user installation because normal site-packages is not writeable\n",
      "\u001b[31mERROR: Could not find a version that satisfies the requirement pcl.pcl_visualization (from versions: none)\u001b[0m\u001b[31m\n",
      "\u001b[0m\u001b[31mERROR: No matching distribution found for pcl.pcl_visualization\u001b[0m\u001b[31m\n",
      "\u001b[0mNote: you may need to restart the kernel to use updated packages.\n"
     ]
    }
   ],
   "source": [
    "pip install pcl.pcl_visualization"
   ]
  },
  {
   "cell_type": "code",
   "execution_count": 8,
   "id": "1345f490-8985-4637-8aeb-a0fbe0e9b68f",
   "metadata": {},
   "outputs": [
    {
     "ename": "AttributeError",
     "evalue": "module 'pcl' has no attribute 'loadPLYFile'",
     "output_type": "error",
     "traceback": [
      "\u001b[0;31m---------------------------------------------------------------------------\u001b[0m",
      "\u001b[0;31mAttributeError\u001b[0m                            Traceback (most recent call last)",
      "Cell \u001b[0;32mIn[8], line 7\u001b[0m\n\u001b[1;32m      4\u001b[0m \u001b[38;5;28;01mimport\u001b[39;00m \u001b[38;5;21;01mnumpy\u001b[39;00m \u001b[38;5;28;01mas\u001b[39;00m \u001b[38;5;21;01mnp\u001b[39;00m\n\u001b[1;32m      6\u001b[0m \u001b[38;5;66;03m# Load and preprocess the point cloud\u001b[39;00m\n\u001b[0;32m----> 7\u001b[0m cloud \u001b[38;5;241m=\u001b[39m \u001b[43mpcl\u001b[49m\u001b[38;5;241;43m.\u001b[39;49m\u001b[43mloadPLYFile\u001b[49m(\u001b[38;5;124m'\u001b[39m\u001b[38;5;124mpoint_cloud.pcd\u001b[39m\u001b[38;5;124m'\u001b[39m)\n\u001b[1;32m      8\u001b[0m \u001b[38;5;66;03m# Preprocess: Remove outliers, downsample, and segment planes\u001b[39;00m\n\u001b[1;32m      9\u001b[0m cloud \u001b[38;5;241m=\u001b[39m preprocess_point_cloud(cloud)\n",
      "\u001b[0;31mAttributeError\u001b[0m: module 'pcl' has no attribute 'loadPLYFile'"
     ]
    }
   ],
   "source": [
    "import pcl\n",
    "#import pcl.pcl_visualization\n",
    "from sklearn.cluster import DBSCAN\n",
    "import numpy as np\n",
    "\n",
    "# Load and preprocess the point cloud\n",
    "cloud = pcl.loadPLYFile('point_cloud.pcd')\n",
    "# Preprocess: Remove outliers, downsample, and segment planes\n",
    "cloud = preprocess_point_cloud(cloud)\n",
    "\n",
    "# Apply Region Growing Segmentation to identify regions of interest\n",
    "segmented_regions = region_growing_segmentation(cloud)\n",
    "\n",
    "# Iterate over segmented regions to apply advanced RANSAC\n",
    "for region in segmented_regions:\n",
    "    # Setup an adaptive RANSAC for cylinder detection\n",
    "    model_cylinder = region.make_segmenter()\n",
    "    model_cylinder.set_model_type(pcl.SACMODEL_CYLINDER)\n",
    "    model_cylinder.set_method_type(pcl.SAC_RANSAC)\n",
    "    model_cylinder.set_distance_threshold(adaptive_threshold(region))\n",
    "    model_cylinder.set_optimize_coefficients(True)\n",
    "    model_cylinder.set_max_iterations(adaptive_iteration_count(region))\n",
    "    \n",
    "    # Add additional constraints or priors if available\n",
    "    model_cylinder.set_radius_limits(min_radius, max_radius)\n",
    "\n",
    "    # Perform the cylinder detection\n",
    "    indices, coefficients = model_cylinder.segment()\n",
    "\n",
    "    # Validate the inliers using clustering\n",
    "    inliers_cloud = region.extract(indices, negative=False)\n",
    "    clustering = DBSCAN(eps=0.02, min_samples=10).fit(inliers_cloud.to_array())\n",
    "    clusters = np.unique(clustering.labels_)\n",
    "\n",
    "    if len(clusters) == 1:  # Expecting a single cluster\n",
    "        # Refine and save the model if valid\n",
    "        refined_cylinder = refine_cylinder_model(inliers_cloud, coefficients)\n",
    "        save_cylinder_model(refined_cylinder, 'detected_cylinder.pcd')\n",
    "    else:\n",
    "        print(\"Multiple clusters detected, skipping this region.\")\n",
    "\n",
    "# Post-process and evaluate the results\n",
    "evaluate_and_visualize_results()"
   ]
  }
 ],
 "metadata": {
  "kernelspec": {
   "display_name": "Python 3 (ipykernel)",
   "language": "python",
   "name": "python3"
  },
  "language_info": {
   "codemirror_mode": {
    "name": "ipython",
    "version": 3
   },
   "file_extension": ".py",
   "mimetype": "text/x-python",
   "name": "python",
   "nbconvert_exporter": "python",
   "pygments_lexer": "ipython3",
   "version": "3.10.12"
  }
 },
 "nbformat": 4,
 "nbformat_minor": 5
}
