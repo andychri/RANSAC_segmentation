{
 "cells": [
  {
   "cell_type": "markdown",
   "id": "d64fa80f-a11c-4932-b343-4951462c304b",
   "metadata": {},
   "source": [
    "## Imports"
   ]
  },
  {
   "cell_type": "code",
   "execution_count": 2,
   "id": "112c31a8-09e7-413b-a5f6-e1cd4be306da",
   "metadata": {},
   "outputs": [
    {
     "name": "stdout",
     "output_type": "stream",
     "text": [
      "Jupyter environment detected. Enabling Open3D WebVisualizer.\n",
      "[Open3D INFO] WebRTC GUI backend enabled.\n",
      "[Open3D INFO] WebRTCWindowSystem: HTTP handshake server disabled.\n"
     ]
    }
   ],
   "source": [
    "import numpy as np\n",
    "import open3d as o3d\n",
    "import matplotlib.pyplot as plt"
   ]
  },
  {
   "cell_type": "markdown",
   "id": "9d793448-be34-4f3f-9168-ac95a12c1508",
   "metadata": {},
   "source": [
    "## Load"
   ]
  },
  {
   "cell_type": "code",
   "execution_count": 3,
   "id": "8a0462fb-9538-40cb-8ead-41f378f756b9",
   "metadata": {},
   "outputs": [],
   "source": [
    "DATANAME = \"noise_filter.pcd\"\n",
    "#DATANAME = \"appartment_cloud.ply\"\n",
    "pcd = o3d.io.read_point_cloud(DATANAME)"
   ]
  },
  {
   "cell_type": "code",
   "execution_count": 5,
   "id": "a3360f0a-5bdc-4acb-958b-6499df5178ef",
   "metadata": {},
   "outputs": [
    {
     "name": "stdout",
     "output_type": "stream",
     "text": [
      "\u001b[1;33m[Open3D WARNING] The number of points is 0 when creating axis-aligned bounding box.\u001b[0;m\n"
     ]
    }
   ],
   "source": [
    "pcd_center = pcd.get_center()\n",
    "pcd.translate(-pcd_center)\n",
    "\n",
    "nn = 16\n",
    "std_multiplier =10\n",
    "\n",
    "filtered_pcd = pcd.remove_statistical_outlier(nn, std_multiplier)\n",
    "\n",
    "#outliers = pcd.select_by_index(filtered_pcd[1], invert=True)\n",
    "#outliers.paint_uniform_color([1, 0, 0])\n",
    "filtered_pcd = filtered_pcd[0]\n",
    "\n",
    "o3d.visualization.draw_geometries([filtered_pcd, outliers])"
   ]
  },
  {
   "cell_type": "code",
   "execution_count": 11,
   "id": "d13eaf6d-2184-4340-b608-f7e91e60df9c",
   "metadata": {},
   "outputs": [],
   "source": [
    "voxel_size = 0.001\n",
    "pcd_downsampled = filtered_pcd.voxel_down_sample(voxel_size = voxel_size)\n",
    "o3d.visualization.draw_geometries([pcd_downsampled])"
   ]
  },
  {
   "cell_type": "code",
   "execution_count": 12,
   "id": "af7ff3b9-80a9-4d8a-85f4-444f33f7292f",
   "metadata": {},
   "outputs": [],
   "source": [
    "nn_distance = np.mean(pcd.compute_nearest_neighbor_distance())\n",
    "\n",
    "radius_normals = nn_distance*4\n",
    "\n",
    "pcd_downsampled.estimate_normals(search_param=o3d.geometry.KDTreeSearchParamHybrid(radius=radius_normals, max_nn = 16), fast_normal_computation = True)\n",
    "\n",
    "pcd_downsampled.paint_uniform_color([0.6, 0.6, 0.6])\n",
    "o3d.visualization.draw_geometries([pcd_downsampled, outliers])"
   ]
  },
  {
   "cell_type": "code",
   "execution_count": 13,
   "id": "3932c2b5-fc6b-4cae-b563-7a1989bccce6",
   "metadata": {},
   "outputs": [],
   "source": [
    "front = [0.9681980579027637, 0.24767928031788963, -0.03531989205149242]\n",
    "lookat = [0.0084975577023191553, -0.2087872942101065, -0.48907046814855626]\n",
    "up = [0.011867560061902271, 0.095549553792428299, 0.99535392890581653]\n",
    "zoom = 0.23999999999999969\n",
    "\n",
    "pcd = pcd_downsampled\n",
    "o3d.visualization.draw_geometries([pcd],zoom=zoom, front=front, lookat=lookat, up=up)"
   ]
  },
  {
   "cell_type": "code",
   "execution_count": 14,
   "id": "4810533f-7011-4f70-be7e-f498e66d1e77",
   "metadata": {},
   "outputs": [],
   "source": [
    "pt_to_plane_dist = 0.01\n",
    "\n",
    "plane_model, inliers = pcd.segment_plane(distance_threshold=pt_to_plane_dist,ransac_n=3, num_iterations=1000)\n",
    "\n",
    "[a,b,c,d] = plane_model\n",
    "\n",
    "inlier_cloud = pcd.select_by_index(inliers)\n",
    "outlier_cloud = pcd.select_by_index(inliers, invert=True)\n",
    "inlier_cloud.paint_uniform_color([1.0,0,0])\n",
    "outlier_cloud.paint_uniform_color([0.6, 0.6, 0.6])\n",
    "\n",
    "o3d.visualization.draw_geometries([inlier_cloud, outlier_cloud],zoom=zoom, front=front, lookat=lookat, up=up)"
   ]
  },
  {
   "cell_type": "markdown",
   "id": "716bced9-b1f3-47a5-845f-2437c779ebac",
   "metadata": {},
   "source": [
    "## Multi-order RANSAC"
   ]
  },
  {
   "cell_type": "code",
   "execution_count": 29,
   "id": "99dbe109-b316-48bf-ba5b-2b12c92810b4",
   "metadata": {},
   "outputs": [
    {
     "name": "stdout",
     "output_type": "stream",
     "text": [
      "pass 0 / 2 done\n",
      "pass 1 / 2 done\n"
     ]
    }
   ],
   "source": [
    "max_plane_idx = 2\n",
    "pt_to_plane_dist = 0.02\n",
    "\n",
    "segment_models = {}\n",
    "segments = {}\n",
    "rest = pcd\n",
    "\n",
    "for i in range(max_plane_idx):\n",
    "    colors = plt.get_cmap(\"tab20\")(i)\n",
    "    segment_models[i], inliers = rest.segment_plane(distance_threshold=pt_to_plane_dist,ransac_n=3, num_iterations=1000)\n",
    "    segments[i]=rest.select_by_index(inliers)\n",
    "    segments[i].paint_uniform_color(list(colors[:3]))\n",
    "    rest = rest.select_by_index(inliers, invert=True)\n",
    "    print(\"pass\",i,\"/\",max_plane_idx,\"done\")\n",
    "\n",
    "o3d.visualization.draw_geometries([segments[i] for i in range(max_plane_idx)]+[rest])\n"
   ]
  }
 ],
 "metadata": {
  "kernelspec": {
   "display_name": "Python 3 (ipykernel)",
   "language": "python",
   "name": "python3"
  },
  "language_info": {
   "codemirror_mode": {
    "name": "ipython",
    "version": 3
   },
   "file_extension": ".py",
   "mimetype": "text/x-python",
   "name": "python",
   "nbconvert_exporter": "python",
   "pygments_lexer": "ipython3",
   "version": "3.10.12"
  }
 },
 "nbformat": 4,
 "nbformat_minor": 5
}
